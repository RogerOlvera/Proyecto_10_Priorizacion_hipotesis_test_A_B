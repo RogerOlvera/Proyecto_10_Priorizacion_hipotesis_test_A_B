{
 "cells": [
  {
   "cell_type": "markdown",
   "metadata": {},
   "source": [
    "Hola **Rogelio**!\n",
    "\n",
    "Soy **Patricio Requena** 👋. Es un placer ser el revisor de tu proyecto el día de hoy!\n",
    "\n",
    "Revisaré tu proyecto detenidamente con el objetivo de ayudarte a mejorar y perfeccionar tus habilidades. Durante mi revisión, identificaré áreas donde puedas hacer mejoras en tu código, señalando específicamente qué y cómo podrías ajustar para optimizar el rendimiento y la claridad de tu proyecto. Además, es importante para mí destacar los aspectos que has manejado excepcionalmente bien. Reconocer tus fortalezas te ayudará a entender qué técnicas y métodos están funcionando a tu favor y cómo puedes aplicarlos en futuras tareas. \n",
    "\n",
    "_**Recuerda que al final de este notebook encontrarás un comentario general de mi parte**_, empecemos!\n",
    "\n",
    "Encontrarás mis comentarios dentro de cajas verdes, amarillas o rojas, ⚠️ **por favor, no muevas, modifiques o borres mis comentarios** ⚠️:\n",
    "\n",
    "\n",
    "<div class=\"alert alert-block alert-success\">\n",
    "<b>Comentario del revisor</b> <a class=“tocSkip”></a>\n",
    "Si todo está perfecto.\n",
    "</div>\n",
    "\n",
    "<div class=\"alert alert-block alert-warning\">\n",
    "<b>Comentario del revisor</b> <a class=“tocSkip”></a>\n",
    "Si tu código está bien pero se puede mejorar o hay algún detalle que le hace falta.\n",
    "</div>\n",
    "\n",
    "<div class=\"alert alert-block alert-danger\">\n",
    "<b>Comentario del revisor</b> <a class=“tocSkip”></a>\n",
    "Si de pronto hace falta algo o existe algún problema con tu código o conclusiones.\n",
    "</div>\n",
    "\n",
    "Puedes responderme de esta forma:\n",
    "<div class=\"alert alert-block alert-info\">\n",
    "<b>Respuesta del estudiante</b> <a class=“tocSkip”></a>\n",
    "</div>"
   ]
  },
  {
   "cell_type": "markdown",
   "metadata": {},
   "source": [
    "# **Proyecto sprint 10**"
   ]
  },
  {
   "cell_type": "markdown",
   "metadata": {},
   "source": [
    "## **Descripción del proyecto**\n",
    "\n",
    "Eres analista en una gran tienda online. Junto con el departamento de marketing has recopilado una lista de hipótesis que pueden ayudar a aumentar los ingresos.\n",
    "\n",
    "Tienes que priorizar estas hipótesis, lanzar un test A/B y analizar los resultados."
   ]
  },
  {
   "cell_type": "markdown",
   "metadata": {},
   "source": [
    "### **Descripción de los datos**\n",
    "\n",
    "Datasets del proyecto:\n",
    "\n",
    "\n"
   ]
  },
  {
   "cell_type": "markdown",
   "metadata": {},
   "source": [
    "### **Priorización de las hipótesis**\n",
    "\n",
    "**Dataset: hypotheses_us.csv**\n",
    "\n",
    "/datasets/hypotheses_us.csv\n",
    "\n",
    "Descripción de los datos:\n",
    "\n",
    "* Hypotheses: breves descripciones de las hipótesis.\n",
    "* Reach: alcance del usuario, en una escala del uno a diez.\n",
    "* Impact: impacto en los usuarios, en una escala del uno al diez.Confidence: confianza en la hipótesis, en una escala del uno al diez.\n",
    "* Effort: los recursos necesarios para probar una hipótesis, en una escala del uno al diez. Cuanto mayor sea el valor Effort, más recursos requiere la prueba."
   ]
  },
  {
   "cell_type": "markdown",
   "metadata": {},
   "source": [
    "### **Pruebas A/B**\n",
    "\n",
    "**Dataset: orders_us.csv** \n",
    "\n",
    "/datasets/orders_us.csv\n",
    "\n",
    "Descripción de los datos:\n",
    "\n",
    "* transactionId: identificador de pedido.\n",
    "* visitorId: identificador del usuario que realizó el pedido.\n",
    "* date: fecha del pedido.\n",
    "* revenue: ingresos del pedido.\n",
    "* group: el grupo del test A/B al que pertenece el usuario.\n",
    "\n",
    "**Dataset: visit_us.csv**\n",
    "\n",
    "/datasets/visits_us.csv\n",
    "\n",
    "Descripción de los datos:\n",
    "\n",
    "* date: la fecha.\n",
    "* group: grupo de la prueba A/B.\n",
    "* visits: el número de visitas en la fecha especificada en el grupo de pruebas A/B especificado.\n",
    "\n",
    "Anotaciones:\n",
    "\n",
    "Es posible que haya errores en los datasets originales; por ejemplo, algunos de los visitantes podrían haber entrado tanto en el grupo A como en el grupo B."
   ]
  },
  {
   "cell_type": "markdown",
   "metadata": {},
   "source": [
    "## **Objetivo**\n",
    "\n",
    "Priorizar las hipótesis y analizar los resultados de la prueba A/B aplicada para soportar la toma de decisión del negocio. "
   ]
  },
  {
   "cell_type": "markdown",
   "metadata": {},
   "source": [
    "<div class=\"alert alert-block alert-success\">\n",
    "<b>Comentario del revisor (1ra Iteracion)</b> <a class=“tocSkip”></a>\n",
    "\n",
    "Muy buena práctica el redactar una introducción y pasos de lo que harás en el proyecto, te invito a seguir manteniendo esta práctica\n",
    "</div>"
   ]
  },
  {
   "cell_type": "markdown",
   "metadata": {},
   "source": [
    "## **Revisión y análisis de los datasets**"
   ]
  },
  {
   "cell_type": "markdown",
   "metadata": {},
   "source": [
    "### **Carga de librerías**"
   ]
  },
  {
   "cell_type": "code",
   "execution_count": 1,
   "metadata": {},
   "outputs": [
    {
     "name": "stdout",
     "output_type": "stream",
     "text": [
      "Librerías cargadas con éxito\n"
     ]
    }
   ],
   "source": [
    "# Cargar todas las librerías\n",
    "\n",
    "try:\n",
    "\n",
    "    import pandas as pd\n",
    "    import numpy as np\n",
    "    import seaborn as sns\n",
    "    from math import factorial\n",
    "    from scipy import stats as st\n",
    "    from matplotlib import pyplot as plt\n",
    "    import datetime as dt\n",
    "    print('Librerías cargadas con éxito')\n",
    "\n",
    "except Exception as error :\n",
    "    print('Error en carga de librerias', error)"
   ]
  },
  {
   "cell_type": "markdown",
   "metadata": {},
   "source": [
    "### **Carga de datasets**"
   ]
  },
  {
   "cell_type": "code",
   "execution_count": 2,
   "metadata": {},
   "outputs": [
    {
     "name": "stdout",
     "output_type": "stream",
     "text": [
      "Datasets cargados con éxito\n"
     ]
    }
   ],
   "source": [
    "# Carga de datasets\n",
    "\n",
    "try:\n",
    "    hipotesis = pd.read_csv('/datasets/hypotheses_us.csv', sep=';')\n",
    "    orders = pd.read_csv('/datasets/orders_us.csv')\n",
    "    visits = pd.read_csv('/datasets/visits_us.csv')\n",
    "    print('Datasets cargados con éxito')\n",
    "    \n",
    "except:\n",
    "    print('Error al cargar datasets')\n",
    "        "
   ]
  },
  {
   "cell_type": "markdown",
   "metadata": {},
   "source": [
    "### **Revisión de los datos**"
   ]
  },
  {
   "cell_type": "markdown",
   "metadata": {},
   "source": [
    "#### **Dataset: hipotesis**"
   ]
  },
  {
   "cell_type": "code",
   "execution_count": 3,
   "metadata": {},
   "outputs": [
    {
     "name": "stdout",
     "output_type": "stream",
     "text": [
      "Información general del dataset: hipotesis\n",
      "\n",
      "<class 'pandas.core.frame.DataFrame'>\n",
      "RangeIndex: 9 entries, 0 to 8\n",
      "Data columns (total 5 columns):\n",
      " #   Column      Non-Null Count  Dtype \n",
      "---  ------      --------------  ----- \n",
      " 0   Hypothesis  9 non-null      object\n",
      " 1   Reach       9 non-null      int64 \n",
      " 2   Impact      9 non-null      int64 \n",
      " 3   Confidence  9 non-null      int64 \n",
      " 4   Effort      9 non-null      int64 \n",
      "dtypes: int64(4), object(1)\n",
      "memory usage: 488.0+ bytes\n",
      "None\n"
     ]
    }
   ],
   "source": [
    "# Info del dataset\n",
    "\n",
    "print('Información general del dataset: hipotesis')\n",
    "\n",
    "print()\n",
    "\n",
    "print(hipotesis.info())"
   ]
  },
  {
   "cell_type": "code",
   "execution_count": 4,
   "metadata": {},
   "outputs": [
    {
     "name": "stdout",
     "output_type": "stream",
     "text": [
      "Muestra del dataset:\n",
      "\n",
      "                                          Hypothesis  Reach  Impact  \\\n",
      "0  Add two new channels for attracting traffic. T...      3      10   \n",
      "1  Launch your own delivery service. This will sh...      2       5   \n",
      "2  Add product recommendation blocks to the store...      8       3   \n",
      "3  Change the category structure. This will incre...      8       3   \n",
      "4  Change the background color on the main page. ...      3       1   \n",
      "5  Add a customer review page. This will increase...      3       2   \n",
      "6  Show banners with current offers and sales on ...      5       3   \n",
      "7  Add a subscription form to all the main pages....     10       7   \n",
      "8  Launch a promotion that gives users discounts ...      1       9   \n",
      "\n",
      "   Confidence  Effort  \n",
      "0           8       6  \n",
      "1           4      10  \n",
      "2           7       3  \n",
      "3           3       8  \n",
      "4           1       1  \n",
      "5           2       3  \n",
      "6           8       3  \n",
      "7           8       5  \n",
      "8           9       5  \n"
     ]
    }
   ],
   "source": [
    "# Muestra del dataset\n",
    "\n",
    "print('Muestra del dataset:')\n",
    "\n",
    "print()\n",
    "\n",
    "print(hipotesis.head(10))"
   ]
  },
  {
   "cell_type": "code",
   "execution_count": 5,
   "metadata": {},
   "outputs": [
    {
     "name": "stdout",
     "output_type": "stream",
     "text": [
      "Hipótesis a priorizar:\n",
      "\n",
      "['Add two new channels for attracting traffic. This will bring 30% more users'\n",
      " 'Launch your own delivery service. This will shorten delivery time'\n",
      " \"Add product recommendation blocks to the store's site. This will increase conversion and average purchase size\"\n",
      " 'Change the category structure. This will increase conversion since users will find the products they want more quickly'\n",
      " 'Change the background color on the main page. This will increase user engagement'\n",
      " 'Add a customer review page. This will increase the number of orders'\n",
      " 'Show banners with current offers and sales on the main page. This will boost conversion'\n",
      " 'Add a subscription form to all the main pages. This will help you compile a mailing list'\n",
      " 'Launch a promotion that gives users discounts on their birthdays']\n"
     ]
    }
   ],
   "source": [
    "# Valores de la columna 'Hypothesis'\n",
    "\n",
    "print(\"Hipótesis a priorizar:\")\n",
    "\n",
    "print()\n",
    "\n",
    "print(hipotesis['Hypothesis'].unique())"
   ]
  },
  {
   "cell_type": "markdown",
   "metadata": {},
   "source": [
    "**Observaciones del dataset**\n",
    "\n",
    "* 5 columnas con 9 filas\n",
    "* Los encabezados de columnas no se encuentran en formato snake_case, es necesario cambiar.\n",
    "* Los tipos de datos son correctos\n",
    "* No hay valores ausentes ni duplicados.\n"
   ]
  },
  {
   "cell_type": "markdown",
   "metadata": {},
   "source": [
    "**Cambios al dataset**"
   ]
  },
  {
   "cell_type": "code",
   "execution_count": 6,
   "metadata": {
    "scrolled": false
   },
   "outputs": [
    {
     "name": "stdout",
     "output_type": "stream",
     "text": [
      "Muestra del cambio:\n",
      "\n",
      "                                           hipotesis  reach  impact  \\\n",
      "0  Add two new channels for attracting traffic. T...      3      10   \n",
      "1  Launch your own delivery service. This will sh...      2       5   \n",
      "\n",
      "   confidence  effort  \n",
      "0           8       6  \n",
      "1           4      10  \n"
     ]
    }
   ],
   "source": [
    "# Corrección de encabezados a estilo snake_case\n",
    "\n",
    "hipotesis.columns = ['hipotesis', 'reach', 'impact', 'confidence', 'effort']\n",
    "\n",
    "print('Muestra del cambio:')\n",
    "\n",
    "print()\n",
    "\n",
    "print(hipotesis.head(2))\n"
   ]
  },
  {
   "cell_type": "markdown",
   "metadata": {},
   "source": [
    "#### **Dataset: orders**"
   ]
  },
  {
   "cell_type": "code",
   "execution_count": 7,
   "metadata": {},
   "outputs": [
    {
     "name": "stdout",
     "output_type": "stream",
     "text": [
      "Información general del dataset: orders\n",
      "\n",
      "<class 'pandas.core.frame.DataFrame'>\n",
      "RangeIndex: 1197 entries, 0 to 1196\n",
      "Data columns (total 5 columns):\n",
      " #   Column         Non-Null Count  Dtype  \n",
      "---  ------         --------------  -----  \n",
      " 0   transactionId  1197 non-null   int64  \n",
      " 1   visitorId      1197 non-null   int64  \n",
      " 2   date           1197 non-null   object \n",
      " 3   revenue        1197 non-null   float64\n",
      " 4   group          1197 non-null   object \n",
      "dtypes: float64(1), int64(2), object(2)\n",
      "memory usage: 46.9+ KB\n",
      "None\n"
     ]
    }
   ],
   "source": [
    "# Info del dataset\n",
    "\n",
    "print('Información general del dataset: orders')\n",
    "\n",
    "print()\n",
    "\n",
    "print(orders.info())"
   ]
  },
  {
   "cell_type": "code",
   "execution_count": 8,
   "metadata": {},
   "outputs": [
    {
     "name": "stdout",
     "output_type": "stream",
     "text": [
      "Muestra del dataset:\n",
      "\n",
      "   transactionId   visitorId        date  revenue group\n",
      "0     3667963787  3312258926  2019-08-15     30.4     B\n",
      "1     2804400009  3642806036  2019-08-15     15.2     B\n",
      "2     2961555356  4069496402  2019-08-15     10.2     A\n",
      "3     3797467345  1196621759  2019-08-15    155.1     B\n",
      "4     2282983706  2322279887  2019-08-15     40.5     B\n",
      "5      182168103   935554773  2019-08-15     35.0     B\n",
      "6      398296753  2900797465  2019-08-15     30.6     B\n",
      "7     2626614568    78758296  2019-08-15     20.1     A\n",
      "8     1576988021   295230930  2019-08-15    215.9     A\n",
      "9     1506739906  1882260405  2019-08-15     30.5     B\n"
     ]
    }
   ],
   "source": [
    "# Muestra del dataset\n",
    "\n",
    "print('Muestra del dataset:')\n",
    "\n",
    "print()\n",
    "\n",
    "print(orders.head(10))"
   ]
  },
  {
   "cell_type": "code",
   "execution_count": 9,
   "metadata": {},
   "outputs": [
    {
     "name": "stdout",
     "output_type": "stream",
     "text": [
      "Valores únicos de la columna 'group':\n",
      "\n",
      "['B' 'A']\n"
     ]
    }
   ],
   "source": [
    "# Validación de los valores de la columna 'group'\n",
    "\n",
    "print(\"Valores únicos de la columna 'group':\")\n",
    "\n",
    "print()\n",
    "\n",
    "print(orders['group'].unique())"
   ]
  },
  {
   "cell_type": "code",
   "execution_count": 10,
   "metadata": {},
   "outputs": [
    {
     "name": "stdout",
     "output_type": "stream",
     "text": [
      "Valores duplicados del dataset: 0\n"
     ]
    }
   ],
   "source": [
    "# Validación de valores duplicados\n",
    "\n",
    "print('Valores duplicados del dataset:', orders.duplicated().sum())\n"
   ]
  },
  {
   "cell_type": "code",
   "execution_count": 11,
   "metadata": {},
   "outputs": [
    {
     "name": "stdout",
     "output_type": "stream",
     "text": [
      "group       A  B\n",
      "visitorId       \n",
      "5114589     0  1\n",
      "6958315     0  1\n",
      "8300375     1  1\n",
      "11685486    1  0\n",
      "39475350    0  1\n",
      "...        .. ..\n",
      "4266935830  1  1\n",
      "4278982564  1  0\n",
      "4279090005  0  1\n",
      "4281247801  0  1\n",
      "4283872382  0  1\n",
      "\n",
      "[1031 rows x 2 columns]\n"
     ]
    }
   ],
   "source": [
    "# Validación de los visitantes por grupo de prueba\n",
    "\n",
    "usuarios_grupo = orders.pivot_table(index='visitorId', columns='group', aggfunc='size', fill_value=0)\n",
    "\n",
    "print(usuarios_grupo)"
   ]
  },
  {
   "cell_type": "markdown",
   "metadata": {},
   "source": [
    "**Observaciones del dataset**\n",
    "\n",
    "* 5 columnas con 1,197 filas\n",
    "* Los encabezados de columnas no se encuentran en formato snake_case, es necesario cambiar.\n",
    "* Los datos de fecha no se encuentran en el formato datetime, es necesario cambiar.\n",
    "* No hay valores ausentes, ni duplicados.\n",
    "* Existen visitantes que estan considerados tanto en el grupo A como en el grupo B, se identificaran estos usuarios.\n"
   ]
  },
  {
   "cell_type": "markdown",
   "metadata": {},
   "source": [
    "**Cambios al dataset**"
   ]
  },
  {
   "cell_type": "code",
   "execution_count": 12,
   "metadata": {
    "scrolled": true
   },
   "outputs": [
    {
     "name": "stdout",
     "output_type": "stream",
     "text": [
      "Muestra del cambio:\n",
      "\n",
      "   transaction_id  visitor_id        date  order_revenue group\n",
      "0      3667963787  3312258926  2019-08-15           30.4     B\n",
      "1      2804400009  3642806036  2019-08-15           15.2     B\n"
     ]
    }
   ],
   "source": [
    "# Corrección de encabezados a estilo snake_case\n",
    "\n",
    "orders.columns = ['transaction_id', 'visitor_id','date', 'order_revenue', 'group']\n",
    "\n",
    "print('Muestra del cambio:')\n",
    "\n",
    "print()\n",
    "\n",
    "print(orders.head(2))\n"
   ]
  },
  {
   "cell_type": "code",
   "execution_count": 13,
   "metadata": {},
   "outputs": [
    {
     "name": "stdout",
     "output_type": "stream",
     "text": [
      "<class 'pandas.core.frame.DataFrame'>\n",
      "RangeIndex: 1197 entries, 0 to 1196\n",
      "Data columns (total 5 columns):\n",
      " #   Column          Non-Null Count  Dtype         \n",
      "---  ------          --------------  -----         \n",
      " 0   transaction_id  1197 non-null   int64         \n",
      " 1   visitor_id      1197 non-null   int64         \n",
      " 2   date            1197 non-null   datetime64[ns]\n",
      " 3   order_revenue   1197 non-null   float64       \n",
      " 4   group           1197 non-null   object        \n",
      "dtypes: datetime64[ns](1), float64(1), int64(2), object(1)\n",
      "memory usage: 46.9+ KB\n",
      "None\n"
     ]
    }
   ],
   "source": [
    "# Cambio de tipo de datos de date\n",
    "\n",
    "orders['date'] = orders['date'].map(\n",
    "lambda x: dt.datetime.strptime(x, '%Y-%m-%d')\n",
    ")\n",
    "\n",
    "print(orders.info())"
   ]
  },
  {
   "cell_type": "code",
   "execution_count": 14,
   "metadata": {},
   "outputs": [],
   "source": [
    "# Tabla dinamica a dataframe\n",
    "\n",
    "usuarios_grupo = pd.DataFrame(usuarios_grupo).reset_index()\n"
   ]
  },
  {
   "cell_type": "code",
   "execution_count": 15,
   "metadata": {},
   "outputs": [
    {
     "name": "stdout",
     "output_type": "stream",
     "text": [
      "Usuarios registrados en ambos grupos (A & B): 58\n",
      "\n",
      "    visitor_id  A  B\n",
      "2      8300375  1  1\n",
      "44   199603092  4  1\n",
      "51   232979603  1  1\n",
      "55   237748145  4  1\n",
      "66   276558944  1  1\n"
     ]
    }
   ],
   "source": [
    "# Identificación de los visitantes que se encuentran registrados en ambos grupos\n",
    "\n",
    "usuarios_grupo_duplicado = usuarios_grupo[(usuarios_grupo['A'] >= 1) & (usuarios_grupo['B'] >= 1)]  # Filtro de usuarios en ambos grupos\n",
    "\n",
    "usuarios_grupo_duplicado.columns = ['visitor_id', 'A', 'B']\n",
    "\n",
    "print('Usuarios registrados en ambos grupos (A & B):', usuarios_grupo_duplicado['visitor_id'].count())\n",
    "\n",
    "print()\n",
    "\n",
    "print(usuarios_grupo_duplicado.head())"
   ]
  },
  {
   "cell_type": "code",
   "execution_count": 16,
   "metadata": {
    "scrolled": true
   },
   "outputs": [
    {
     "name": "stdout",
     "output_type": "stream",
     "text": [
      "Muestra de usuario registrado en ambos grupos:\n",
      "\n",
      "      transaction_id  visitor_id       date  order_revenue group\n",
      "26        2223239646   199603092 2019-08-15           55.7     A\n",
      "134         62794304   199603092 2019-08-22          110.3     A\n",
      "246        437656952   199603092 2019-08-02           55.7     B\n",
      "823       2971973105   199603092 2019-08-27           45.9     A\n",
      "1102      1941707234   199603092 2019-08-12          100.0     A\n"
     ]
    }
   ],
   "source": [
    "# Muestra de usuario registrado en ambos grupos\n",
    "\n",
    "muestra_usuario_duplicado = orders[orders['visitor_id'] ==  199603092]\n",
    "\n",
    "print('Muestra de usuario registrado en ambos grupos:')\n",
    "\n",
    "print()\n",
    "\n",
    "print(muestra_usuario_duplicado)"
   ]
  },
  {
   "cell_type": "markdown",
   "metadata": {},
   "source": [
    "#### **Dataset: visits**"
   ]
  },
  {
   "cell_type": "code",
   "execution_count": 17,
   "metadata": {},
   "outputs": [
    {
     "name": "stdout",
     "output_type": "stream",
     "text": [
      "Información general del dataset: visits\n",
      "\n",
      "<class 'pandas.core.frame.DataFrame'>\n",
      "RangeIndex: 62 entries, 0 to 61\n",
      "Data columns (total 3 columns):\n",
      " #   Column  Non-Null Count  Dtype \n",
      "---  ------  --------------  ----- \n",
      " 0   date    62 non-null     object\n",
      " 1   group   62 non-null     object\n",
      " 2   visits  62 non-null     int64 \n",
      "dtypes: int64(1), object(2)\n",
      "memory usage: 1.6+ KB\n",
      "None\n"
     ]
    }
   ],
   "source": [
    "# Info del dataset\n",
    "\n",
    "print('Información general del dataset: visits')\n",
    "\n",
    "print()\n",
    "\n",
    "print(visits.info())"
   ]
  },
  {
   "cell_type": "code",
   "execution_count": 18,
   "metadata": {},
   "outputs": [
    {
     "name": "stdout",
     "output_type": "stream",
     "text": [
      "Muestra del dataset:\n",
      "\n",
      "         date group  visits\n",
      "0  2019-08-01     A     719\n",
      "1  2019-08-02     A     619\n",
      "2  2019-08-03     A     507\n",
      "3  2019-08-04     A     717\n",
      "4  2019-08-05     A     756\n",
      "5  2019-08-06     A     667\n",
      "6  2019-08-07     A     644\n",
      "7  2019-08-08     A     610\n",
      "8  2019-08-09     A     617\n",
      "9  2019-08-10     A     406\n"
     ]
    }
   ],
   "source": [
    "# Muestra del dataset\n",
    "\n",
    "print('Muestra del dataset:')\n",
    "\n",
    "print()\n",
    "\n",
    "print(visits.head(10))"
   ]
  },
  {
   "cell_type": "code",
   "execution_count": 19,
   "metadata": {},
   "outputs": [
    {
     "name": "stdout",
     "output_type": "stream",
     "text": [
      "Valores únicos de la columna 'group':\n",
      "\n",
      "['A' 'B']\n"
     ]
    }
   ],
   "source": [
    "# Validación de los valores de la columna 'group'\n",
    "\n",
    "print(\"Valores únicos de la columna 'group':\")\n",
    "\n",
    "print()\n",
    "\n",
    "print(visits['group'].unique())"
   ]
  },
  {
   "cell_type": "code",
   "execution_count": 20,
   "metadata": {},
   "outputs": [
    {
     "name": "stdout",
     "output_type": "stream",
     "text": [
      "Valores duplicados del dataset: 0\n"
     ]
    }
   ],
   "source": [
    "# Validación de valores duplicados\n",
    "\n",
    "print('Valores duplicados del dataset:', orders.duplicated().sum())\n"
   ]
  },
  {
   "cell_type": "markdown",
   "metadata": {},
   "source": [
    "**Observaciones del dataset**\n",
    "\n",
    "* 3 columnas con 63 filas\n",
    "* Los encabezados de columnas se encuentran en formato snake_case.\n",
    "* Los datos de fecha no se encuentran en el formato datetime, es necesario cambiar.\n",
    "* No hay valores ausentes, ni duplicados.\n"
   ]
  },
  {
   "cell_type": "markdown",
   "metadata": {},
   "source": [
    "**Cambios al dataset**"
   ]
  },
  {
   "cell_type": "code",
   "execution_count": 21,
   "metadata": {},
   "outputs": [
    {
     "name": "stdout",
     "output_type": "stream",
     "text": [
      "<class 'pandas.core.frame.DataFrame'>\n",
      "RangeIndex: 62 entries, 0 to 61\n",
      "Data columns (total 3 columns):\n",
      " #   Column  Non-Null Count  Dtype         \n",
      "---  ------  --------------  -----         \n",
      " 0   date    62 non-null     datetime64[ns]\n",
      " 1   group   62 non-null     object        \n",
      " 2   visits  62 non-null     int64         \n",
      "dtypes: datetime64[ns](1), int64(1), object(1)\n",
      "memory usage: 1.6+ KB\n",
      "None\n"
     ]
    }
   ],
   "source": [
    "# Cambio de tipo de datos de date\n",
    "\n",
    "visits['date'] = visits['date'].map(\n",
    "lambda x: dt.datetime.strptime(x, '%Y-%m-%d')\n",
    ")\n",
    "\n",
    "print(visits.info())"
   ]
  },
  {
   "cell_type": "markdown",
   "metadata": {},
   "source": [
    "## **Priorización de hipótesis**"
   ]
  },
  {
   "cell_type": "code",
   "execution_count": 22,
   "metadata": {},
   "outputs": [
    {
     "name": "stdout",
     "output_type": "stream",
     "text": [
      "Hipótesis a priorizar:\n",
      "\n",
      "                                           hipotesis  reach  impact  \\\n",
      "0  Add two new channels for attracting traffic. T...      3      10   \n",
      "1  Launch your own delivery service. This will sh...      2       5   \n",
      "2  Add product recommendation blocks to the store...      8       3   \n",
      "3  Change the category structure. This will incre...      8       3   \n",
      "4  Change the background color on the main page. ...      3       1   \n",
      "5  Add a customer review page. This will increase...      3       2   \n",
      "6  Show banners with current offers and sales on ...      5       3   \n",
      "7  Add a subscription form to all the main pages....     10       7   \n",
      "8  Launch a promotion that gives users discounts ...      1       9   \n",
      "\n",
      "   confidence  effort  \n",
      "0           8       6  \n",
      "1           4      10  \n",
      "2           7       3  \n",
      "3           3       8  \n",
      "4           1       1  \n",
      "5           2       3  \n",
      "6           8       3  \n",
      "7           8       5  \n",
      "8           9       5  \n"
     ]
    }
   ],
   "source": [
    "# Hipótesis a priorizar\n",
    "\n",
    "print('Hipótesis a priorizar:')\n",
    "\n",
    "print()\n",
    "\n",
    "print(hipotesis.head(10))"
   ]
  },
  {
   "cell_type": "markdown",
   "metadata": {},
   "source": [
    "### **Framework ICE**"
   ]
  },
  {
   "cell_type": "code",
   "execution_count": 23,
   "metadata": {
    "scrolled": false
   },
   "outputs": [
    {
     "name": "stdout",
     "output_type": "stream",
     "text": [
      "Prioridad de hipotesis por framework ICE:\n",
      "                                           hipotesis    ICE\n",
      "8  Launch a promotion that gives users discounts ...  16.20\n",
      "0  Add two new channels for attracting traffic. T...  13.33\n",
      "7  Add a subscription form to all the main pages....  11.20\n",
      "6  Show banners with current offers and sales on ...   8.00\n",
      "2  Add product recommendation blocks to the store...   7.00\n",
      "1  Launch your own delivery service. This will sh...   2.00\n",
      "5  Add a customer review page. This will increase...   1.33\n",
      "3  Change the category structure. This will incre...   1.12\n",
      "4  Change the background color on the main page. ...   1.00\n"
     ]
    }
   ],
   "source": [
    "# Calcular ICE, ordenado en forma descendente de prioridad\n",
    "\n",
    "hipotesis['ICE'] = round((hipotesis['impact'] * hipotesis['confidence']) / hipotesis['effort'],2)\n",
    "\n",
    "print('Prioridad de hipotesis por framework ICE:')\n",
    "\n",
    "print(hipotesis[['hipotesis', 'ICE']].sort_values(by='ICE', ascending=False))\n"
   ]
  },
  {
   "cell_type": "markdown",
   "metadata": {},
   "source": [
    "### **Framework RICE**"
   ]
  },
  {
   "cell_type": "code",
   "execution_count": 24,
   "metadata": {
    "scrolled": true
   },
   "outputs": [
    {
     "name": "stdout",
     "output_type": "stream",
     "text": [
      "Prioridad de hipotesis por framework RICE:\n",
      "                                           hipotesis   RICE\n",
      "7  Add a subscription form to all the main pages....  112.0\n",
      "2  Add product recommendation blocks to the store...   56.0\n",
      "0  Add two new channels for attracting traffic. T...   40.0\n",
      "6  Show banners with current offers and sales on ...   40.0\n",
      "8  Launch a promotion that gives users discounts ...   16.2\n",
      "3  Change the category structure. This will incre...    9.0\n",
      "1  Launch your own delivery service. This will sh...    4.0\n",
      "5  Add a customer review page. This will increase...    4.0\n",
      "4  Change the background color on the main page. ...    3.0\n"
     ]
    }
   ],
   "source": [
    "# Calcular RICE, ordenado en forma descendente de prioridad\n",
    "\n",
    "hipotesis['RICE'] = round((hipotesis['reach'] * hipotesis['impact'] * hipotesis['confidence']) / hipotesis['effort'],2)\n",
    "\n",
    "print('Prioridad de hipotesis por framework RICE:')\n",
    "\n",
    "print(hipotesis[['hipotesis', 'RICE']].sort_values(by='RICE', ascending=False))\n"
   ]
  },
  {
   "cell_type": "markdown",
   "metadata": {},
   "source": [
    "### **Conclusiones de la priorización de hipótesis**\n",
    "\n",
    "Al realizar la evaluación por **ICE**, encontramos que la hipótesis: **'Launch a promotion that gives users discounts on their birthdays'** se encuentra en primer lugar con 16.20 de score, sin embargo, existen 2 hipótesis relativamente cercanas a esta evaluación.\n",
    "\n",
    "Con el método ICE estamos dejando de lado ‘reach’, es decir, el número de usuarios que se verán alcanzados por el cambio que se piensa implantar, dato con el que se cuenta.\n",
    "\n",
    "Aplicando el framework **RICE**, que incluye ‘reach’, se encuentra que la hipótesis: **'Add a subscription form to all the main pages. This will help you compile a mailing list'**, es la que tiene el mayor score de priorización entre las hipótesis presentadas.\n",
    "\n",
    "Cabe mencionar que la principal diferencia entre ambas hipótesis es 'reach' donde 'Launch a promotion', tiene un 'reach' de 1 (pocos usuarios alcanzados), y 'Add a subscription form...' tiene un 'reach' de 10 (La mayoría de los usuarios alcanzados).\n",
    "\n",
    "Por lo anterior, la hipóteisis: **'Add a subscription form to all the main pages. This will help you compile a mailing list'**, debe ser la prioritaria a probar ya que tiene un gran potencial de impacto, alto nivel de confianza y un esfuerzo relativamente bajo, en comparación con las otras hipótesis evaluadas.\n"
   ]
  },
  {
   "cell_type": "markdown",
   "metadata": {},
   "source": [
    "<div class=\"alert alert-block alert-warning\">\n",
    "<b>Comentario del revisor (1ra Iteracion)</b> <a class=“tocSkip”></a>\n",
    "\n",
    "Muy buen trabajo con el cálculo para la priorización con los diferentes frameworks! También podrías presentar en gráfica este tipo de comparaciones ya que es es muy bueno para que sea mucho más entendible la comparación\n",
    "</div>"
   ]
  },
  {
   "cell_type": "markdown",
   "metadata": {},
   "source": [
    "## **Análisis del test A/B**"
   ]
  },
  {
   "cell_type": "markdown",
   "metadata": {},
   "source": [
    "### **Filtrar los usuarios que aparecen en ambos grupos de orders**"
   ]
  },
  {
   "cell_type": "code",
   "execution_count": 25,
   "metadata": {},
   "outputs": [
    {
     "name": "stdout",
     "output_type": "stream",
     "text": [
      "   transaction_id  visitor_id       date  order_revenue group\n",
      "0      3667963787  3312258926 2019-08-15           30.4     B\n",
      "1      2804400009  3642806036 2019-08-15           15.2     B\n",
      "2      2961555356  4069496402 2019-08-15           10.2     A\n",
      "3      3797467345  1196621759 2019-08-15          155.1     B\n",
      "4      2282983706  2322279887 2019-08-15           40.5     B\n"
     ]
    }
   ],
   "source": [
    "# Filtrar los usuarios que aparecen en ambos grupos del dataset\n",
    "\n",
    "orders_ = orders[~orders['visitor_id'].isin(usuarios_grupo_duplicado)]\n",
    "\n",
    "print(orders_.head())"
   ]
  },
  {
   "cell_type": "markdown",
   "metadata": {},
   "source": [
    "### **Ingreso acumulado por grupo**"
   ]
  },
  {
   "cell_type": "code",
   "execution_count": 26,
   "metadata": {},
   "outputs": [
    {
     "name": "stdout",
     "output_type": "stream",
     "text": [
      "         date group\n",
      "0  2019-08-15     B\n",
      "2  2019-08-15     A\n",
      "45 2019-08-16     A\n",
      "47 2019-08-16     B\n",
      "55 2019-08-01     A\n"
     ]
    }
   ],
   "source": [
    "# crea una matriz con valores únicos de parejas fecha-grupo\n",
    "\n",
    "dates_groups = orders_[['date', 'group']].drop_duplicates()\n",
    "\n",
    "print(dates_groups.head())"
   ]
  },
  {
   "cell_type": "code",
   "execution_count": 27,
   "metadata": {},
   "outputs": [
    {
     "name": "stdout",
     "output_type": "stream",
     "text": [
      "Ingresos acumulados:\n",
      "\n",
      "          date group  transaction_id  visitor_id  order_revenue\n",
      "55  2019-08-01     A              24          20         2356.8\n",
      "66  2019-08-01     B              21          20         1620.0\n",
      "175 2019-08-02     A              44          38         3860.3\n",
      "173 2019-08-02     B              45          43         4243.8\n",
      "291 2019-08-03     A              68          62         5675.5\n"
     ]
    }
   ],
   "source": [
    "# Crear las ordenes acumuladas por fecha - grupo\n",
    "\n",
    "orders_acumuladas = dates_groups.apply(lambda x: orders_[np.logical_and(orders_['date'] <= x['date'], orders_['group'] == x['group'])].agg({'date' : 'max', 'group' : 'max', 'transaction_id' : pd.Series.nunique, 'visitor_id' : pd.Series.nunique, 'order_revenue' : 'sum'}), axis=1).sort_values(by=['date','group'])\n",
    "\n",
    "print('Ingresos acumulados:')\n",
    "\n",
    "print()\n",
    "\n",
    "print(orders_acumuladas.head())"
   ]
  },
  {
   "cell_type": "code",
   "execution_count": 28,
   "metadata": {},
   "outputs": [
    {
     "name": "stdout",
     "output_type": "stream",
     "text": [
      "Visitas acumulados:\n",
      "\n",
      "          date group  visits\n",
      "55  2019-08-01     A     719\n",
      "66  2019-08-01     B     713\n",
      "175 2019-08-02     A    1338\n",
      "173 2019-08-02     B    1294\n",
      "291 2019-08-03     A    1845\n"
     ]
    }
   ],
   "source": [
    "# Crear las visitas acumuladas por fecha - grupo\n",
    "\n",
    "visits_acumuladas = dates_groups.apply(lambda x: visits[np.logical_and(visits['date'] <= x['date'], visits['group'] == x['group'])].agg({'date' : 'max', 'group' : 'max', 'visits' : 'sum'}), axis=1).sort_values(by=['date','group'])\n",
    "\n",
    "print('Visitas acumulados:')\n",
    "\n",
    "print()\n",
    "\n",
    "print(visits_acumuladas.head())"
   ]
  },
  {
   "cell_type": "code",
   "execution_count": 29,
   "metadata": {},
   "outputs": [
    {
     "name": "stdout",
     "output_type": "stream",
     "text": [
      "Muestra de data acumulada:\n",
      "\n",
      "        date group  orders  buyers  revenue  visits\n",
      "0 2019-08-01     A      24      20   2356.8     719\n",
      "1 2019-08-01     B      21      20   1620.0     713\n",
      "2 2019-08-02     A      44      38   3860.3    1338\n",
      "3 2019-08-02     B      45      43   4243.8    1294\n",
      "4 2019-08-03     A      68      62   5675.5    1845\n",
      "5 2019-08-03     B      61      59   6050.6    1803\n"
     ]
    }
   ],
   "source": [
    "# Fusionar tablas de ingresos y visitas\n",
    "\n",
    "data_acumulada = orders_acumuladas.merge(visits_acumuladas, left_on = ['date', 'group'], right_on = ['date','group'])\n",
    "\n",
    "# Cambiar nombres de columnas\n",
    "\n",
    "data_acumulada.columns = ['date', 'group', 'orders', 'buyers', 'revenue', 'visits']\n",
    "\n",
    "print('Muestra de data acumulada:')\n",
    "\n",
    "print()\n",
    "\n",
    "print(data_acumulada.head(6))\n"
   ]
  },
  {
   "cell_type": "code",
   "execution_count": 30,
   "metadata": {},
   "outputs": [
    {
     "data": {
      "text/plain": [
       "(array([18109., 18113., 18117., 18121., 18125., 18129., 18133., 18137.,\n",
       "        18140.]),\n",
       " [Text(0, 0, ''),\n",
       "  Text(0, 0, ''),\n",
       "  Text(0, 0, ''),\n",
       "  Text(0, 0, ''),\n",
       "  Text(0, 0, ''),\n",
       "  Text(0, 0, ''),\n",
       "  Text(0, 0, ''),\n",
       "  Text(0, 0, ''),\n",
       "  Text(0, 0, '')])"
      ]
     },
     "execution_count": 30,
     "metadata": {},
     "output_type": "execute_result"
    },
    {
     "data": {
      "image/png": "[encoded data removed]",
      "text/plain": [
       "<Figure size 800x400 with 1 Axes>"
      ]
     },
     "metadata": {},
     "output_type": "display_data"
    }
   ],
   "source": [
    "# Gráficos de ingresos acumulados por día y grupo de prueba A/B\n",
    "\n",
    "# Grupo A: pedidos e ingresos acumulados por día\n",
    "\n",
    "A_revenue_acumulado = data_acumulada[data_acumulada['group'] == 'A'][['date', 'revenue', 'orders']]\n",
    "\n",
    "# Grupo B: pedidos e ingresos acumulados por día\n",
    "\n",
    "B_revenue_acumulado = data_acumulada[data_acumulada['group'] == 'B'][['date', 'revenue', 'orders']]\n",
    "\n",
    "# Grupo A: gráfico de ingresos\n",
    "\n",
    "plt.figure(figsize = (8, 4))\n",
    "\n",
    "plt.plot(A_revenue_acumulado['date'], A_revenue_acumulado['revenue'], label='A')\n",
    "\n",
    "# Grupo B: gráfico de ingresos\n",
    "\n",
    "plt.plot(B_revenue_acumulado['date'], B_revenue_acumulado['revenue'], label='B')\n",
    "\n",
    "plt.legend()\n",
    "plt.title('Ingresos acumulados por grupo')\n",
    "plt.xlabel('Fecha')\n",
    "plt.ylabel('Ingresos')\n",
    "plt.xticks(rotation = 90)\n"
   ]
  },
  {
   "cell_type": "markdown",
   "metadata": {},
   "source": [
    "#### **Conclusiones: ingreso acumulado por grupo**\n",
    "\n",
    "* Los ingresos aumentan consistentemente en el grupo B a partir del 5 día.\n",
    "* El grupo B presenta varios picos, especialmente despúes del día 17, es importante revisar, los montos de compras de los usuarios.\n",
    "* El grupo A presenta un incremento de ingresos mas estable, menos picos en la curva de incremento."
   ]
  },
  {
   "cell_type": "markdown",
   "metadata": {},
   "source": [
    "### **Tamaño de pedido promedio acumulado por grupo**"
   ]
  },
  {
   "cell_type": "code",
   "execution_count": 31,
   "metadata": {},
   "outputs": [
    {
     "data": {
      "text/plain": [
       "(array([18109., 18113., 18117., 18121., 18125., 18129., 18133., 18137.,\n",
       "        18140.]),\n",
       " [Text(0, 0, ''),\n",
       "  Text(0, 0, ''),\n",
       "  Text(0, 0, ''),\n",
       "  Text(0, 0, ''),\n",
       "  Text(0, 0, ''),\n",
       "  Text(0, 0, ''),\n",
       "  Text(0, 0, ''),\n",
       "  Text(0, 0, ''),\n",
       "  Text(0, 0, '')])"
      ]
     },
     "execution_count": 31,
     "metadata": {},
     "output_type": "execute_result"
    },
    {
     "data": {
      "image/png": "[encoded data removed]",
      "text/plain": [
       "<Figure size 800x400 with 1 Axes>"
      ]
     },
     "metadata": {},
     "output_type": "display_data"
    }
   ],
   "source": [
    "# Gráfica de pedido promedio acumulado por grupo\n",
    "\n",
    "# Grupo A: pedido promedio\n",
    "\n",
    "plt.figure(figsize = (8, 4))\n",
    "\n",
    "plt.plot(A_revenue_acumulado['date'], A_revenue_acumulado['revenue'] / A_revenue_acumulado['orders'], label='A')\n",
    "\n",
    "# Grupo B: pedido promedio\n",
    "\n",
    "plt.plot(B_revenue_acumulado['date'], B_revenue_acumulado['revenue'] / B_revenue_acumulado['orders'], label='B')\n",
    "\n",
    "plt.legend()\n",
    "plt.title('Pedido promedio acumulados por grupo')\n",
    "plt.xlabel('Fecha')\n",
    "plt.ylabel('Pedido promedio')\n",
    "plt.xticks(rotation = 90)"
   ]
  },
  {
   "cell_type": "markdown",
   "metadata": {},
   "source": [
    "#### **Conclusiones: pedido promedio acumulado por grupo**\n",
    "\n",
    "* El tamaño promedio del pedido acumulado incremente en ambos grupos, sin embargo, a mitad de mes el grupo ‘A’ presenta un pico sobre el grupo ‘B’.\n",
    "* Después del día 13 el grupo ‘B’ tiene un pico bastante considerable de incremento sobre el grupo ‘A’.\n",
    "* El grupo ‘A’ inicia a tener un comportamiento más estable con incremento al final de la prueba.\n",
    "* Después del pico el grupo ‘B’ tiene un comportamiento a la baja hasta el final de la prueba.\n"
   ]
  },
  {
   "cell_type": "markdown",
   "metadata": {},
   "source": [
    "<div class=\"alert alert-block alert-success\">\n",
    "<b>Comentario del revisor (1ra Iteracion)</b> <a class=“tocSkip”></a>\n",
    "\n",
    "Buen trabajo, la visualización deja ver la diferencia claramente por cada grupo\n",
    "</div>"
   ]
  },
  {
   "cell_type": "markdown",
   "metadata": {},
   "source": [
    "### **Diferencia relativa del tamaño de pedido promedio acumulado por grupo**"
   ]
  },
  {
   "cell_type": "code",
   "execution_count": 32,
   "metadata": {},
   "outputs": [
    {
     "data": {
      "text/plain": [
       "(array([18109., 18113., 18117., 18121., 18125., 18129., 18133., 18137.,\n",
       "        18140.]),\n",
       " [Text(0, 0, ''),\n",
       "  Text(0, 0, ''),\n",
       "  Text(0, 0, ''),\n",
       "  Text(0, 0, ''),\n",
       "  Text(0, 0, ''),\n",
       "  Text(0, 0, ''),\n",
       "  Text(0, 0, ''),\n",
       "  Text(0, 0, ''),\n",
       "  Text(0, 0, '')])"
      ]
     },
     "execution_count": 32,
     "metadata": {},
     "output_type": "execute_result"
    },
    {
     "data": {
      "image/png": "[encoded data removed]",
      "text/plain": [
       "<Figure size 800x400 with 1 Axes>"
      ]
     },
     "metadata": {},
     "output_type": "display_data"
    }
   ],
   "source": [
    "# Gráfica de la diferencia relativa del tamaño del pedido promedio\n",
    "\n",
    "# Unir los datos acumulados de los grupos\n",
    "\n",
    "revenue_acumulado_unido = A_revenue_acumulado.merge(B_revenue_acumulado, left_on='date', right_on='date', how='left', suffixes=['A', 'B'])\n",
    "\n",
    "# Gráfico de diferencia relativa para los tamaños de compra promedio\n",
    "\n",
    "plt.figure(figsize = (8, 4))\n",
    "\n",
    "plt.plot(revenue_acumulado_unido['date'], (revenue_acumulado_unido['revenueB'] / revenue_acumulado_unido['ordersB']) / (revenue_acumulado_unido['revenueA'] / revenue_acumulado_unido['ordersA'])-1)\n",
    "\n",
    "# agregar el eje X\n",
    "\n",
    "plt.axhline(y=0, color='black', linestyle='--')\n",
    "\n",
    "plt.title('Diferencia relativa del tamaño del pedido promedio acumulado')\n",
    "plt.xlabel('Fecha')\n",
    "plt.ylabel('Diferencia relativa')\n",
    "plt.xticks(rotation = 90)"
   ]
  },
  {
   "cell_type": "markdown",
   "metadata": {},
   "source": [
    "#### **Conclusiones: Diferencia relativa del tamaño del pedido promedio acumulado**\n",
    "\n",
    "* En varios puntos de la gráfica se puede observar que las diferencias aumentan considerablemente.\n",
    "* Es muy probable que existan valores atípicos importantes así como pedidos de montos considerables, especialmente a partir del día 17.\n"
   ]
  },
  {
   "cell_type": "markdown",
   "metadata": {},
   "source": [
    "### **Conversión acumulada**"
   ]
  },
  {
   "cell_type": "code",
   "execution_count": 33,
   "metadata": {},
   "outputs": [
    {
     "data": {
      "text/plain": [
       "(array([18109., 18113., 18117., 18121., 18125., 18129., 18133., 18137.,\n",
       "        18140.]),\n",
       " [Text(0, 0, ''),\n",
       "  Text(0, 0, ''),\n",
       "  Text(0, 0, ''),\n",
       "  Text(0, 0, ''),\n",
       "  Text(0, 0, ''),\n",
       "  Text(0, 0, ''),\n",
       "  Text(0, 0, ''),\n",
       "  Text(0, 0, ''),\n",
       "  Text(0, 0, '')])"
      ]
     },
     "execution_count": 33,
     "metadata": {},
     "output_type": "execute_result"
    },
    {
     "data": {
      "image/png": "[encoded data removed]",
      "text/plain": [
       "<Figure size 800x400 with 1 Axes>"
      ]
     },
     "metadata": {},
     "output_type": "display_data"
    }
   ],
   "source": [
    "# Gráfico de conversión acumulada\n",
    "\n",
    "# calcular la conversión acumulada\n",
    "\n",
    "data_acumulada['conversion'] = data_acumulada['orders'] / data_acumulada['visits']\n",
    "\n",
    "# Grupo A\n",
    "\n",
    "A_data_acumulada = data_acumulada[data_acumulada['group'] == 'A']\n",
    "\n",
    "# Grupo B\n",
    "\n",
    "B_data_acumulada = data_acumulada[data_acumulada['group'] == 'B']\n",
    "\n",
    "# trazar los gráficos\n",
    "\n",
    "# Grupo A: gráfica\n",
    "\n",
    "plt.figure(figsize = (8, 4))\n",
    "\n",
    "plt.plot(A_data_acumulada['date'], A_data_acumulada['conversion'], label='A')\n",
    "\n",
    "# Grupo B: gráfica\n",
    "\n",
    "plt.plot(B_data_acumulada['date'], B_data_acumulada['conversion'], label='B')\n",
    "\n",
    "plt.legend()\n",
    "plt.title('Conversión acumulada')\n",
    "plt.xlabel('Fecha')\n",
    "plt.ylabel('Conversión')\n",
    "plt.xticks(rotation = 90)"
   ]
  },
  {
   "cell_type": "markdown",
   "metadata": {},
   "source": [
    "#### **Conclusiones: Tasa de conversión acumulada**\n",
    "\n",
    "* Al inicio de la prueba la tasa de conversión incremento para ambos grupos, pero cayendo en el tercer día.\n",
    "* A partir del día 4 el grupo ‘B’ incrementa constantemente la tasa de conversión, contando con algunos picos, inicia a estabilizarse en los últimos días de la prueba.\n",
    "* El grupo ‘A’ tiene una caída considerable después del pico inicia, se estabiliza a partir de medio mes, sin embargo, después de un ligero pico vuelve a caer y cierra a la baja."
   ]
  },
  {
   "cell_type": "markdown",
   "metadata": {},
   "source": [
    "<div class=\"alert alert-block alert-success\">\n",
    "<b>Comentario del revisor (1ra Iteracion)</b> <a class=“tocSkip”></a>\n",
    "\n",
    "Excelente trabajo con las visualizaciones y conclusiones desde las mismas, se pueden ver de manera correcta las diferencias entre grupos\n",
    "</div>"
   ]
  },
  {
   "cell_type": "markdown",
   "metadata": {},
   "source": [
    "### **Diferencia relativa de las tasas de conversión acumulada**"
   ]
  },
  {
   "cell_type": "code",
   "execution_count": 34,
   "metadata": {},
   "outputs": [
    {
     "data": {
      "text/plain": [
       "(array([18109., 18113., 18117., 18121., 18125., 18129., 18133., 18137.,\n",
       "        18140.]),\n",
       " [Text(0, 0, ''),\n",
       "  Text(0, 0, ''),\n",
       "  Text(0, 0, ''),\n",
       "  Text(0, 0, ''),\n",
       "  Text(0, 0, ''),\n",
       "  Text(0, 0, ''),\n",
       "  Text(0, 0, ''),\n",
       "  Text(0, 0, ''),\n",
       "  Text(0, 0, '')])"
      ]
     },
     "execution_count": 34,
     "metadata": {},
     "output_type": "execute_result"
    },
    {
     "data": {
      "image/png": "[encoded data removed]",
      "text/plain": [
       "<Figure size 800x400 with 1 Axes>"
      ]
     },
     "metadata": {},
     "output_type": "display_data"
    }
   ],
   "source": [
    "# Gráficos de diferencia relativa de las tasas de conversión\n",
    "\n",
    "# Unir tasas de conversión acumuladas\n",
    "\n",
    "conversion_acumulada_unida = A_data_acumulada[['date','conversion']].merge(B_data_acumulada[['date','conversion']], left_on='date', right_on='date', how='left', suffixes=['A', 'B'])\n",
    "\n",
    "# Gráfica diferencia relativa\n",
    "\n",
    "plt.figure(figsize = (8, 4))\n",
    "\n",
    "plt.plot(conversion_acumulada_unida['date'], conversion_acumulada_unida['conversionB'] / conversion_acumulada_unida['conversionA']-1)\n",
    "\n",
    "# Lineas de ejes\n",
    "\n",
    "plt.axhline(y=0, color='black', linestyle='--')\n",
    "\n",
    "plt.axhline(y=-0.1, color='grey', linestyle='--')\n",
    "\n",
    "plt.title('Diferencia relativa de tasas de conversión')\n",
    "plt.xlabel('Fecha')\n",
    "plt.ylabel('Diferencia relativa')\n",
    "plt.xticks(rotation = 90)"
   ]
  },
  {
   "cell_type": "markdown",
   "metadata": {},
   "source": [
    "#### **Conclusiones: Diferencia realtiva de las tasas de conversión acumulada**\n",
    "\n",
    "* Al inicio el grupo ‘B’ tuvo un incremento de conversión pero prácticamente en el mimo instante cayó considerablemente.\n",
    "* A partir del día 4 inicia a presentar incremento constante en las tasas de conversión, logrando el pico máximo a medio mes.\n",
    "* En la segunda mitad del mes, las tasas de conversión caen pero no a un ritmo crítico, volviendo a tener recuperación en los últimos días de prueba, indicando una posible estabilización.\n"
   ]
  },
  {
   "cell_type": "markdown",
   "metadata": {},
   "source": [
    "### **Dispersión de los pedidos por usuario**"
   ]
  },
  {
   "cell_type": "code",
   "execution_count": 35,
   "metadata": {},
   "outputs": [
    {
     "data": {
      "text/plain": [
       "Text(0, 0.5, 'Revenue')"
      ]
     },
     "execution_count": 35,
     "metadata": {},
     "output_type": "execute_result"
    },
    {
     "data": {
      "image/png": "[encoded data removed]",
      "text/plain": [
       "<Figure size 640x480 with 1 Axes>"
      ]
     },
     "metadata": {},
     "output_type": "display_data"
    }
   ],
   "source": [
    "# Gráfico de dispersión de los pedidos por usuario\n",
    "\n",
    "# Definir los valores del eje X\n",
    "\n",
    "x_valores = pd.Series(range(0,len(orders_['order_revenue'])))\n",
    "\n",
    "# Gráfico de dispersión\n",
    "\n",
    "plt.scatter(x_valores, orders_['order_revenue'])\n",
    "\n",
    "plt.title('Dispersión del tamaño de los pedidos (revenue)')\n",
    "plt.xlabel('Pedidos')\n",
    "plt.ylabel('Revenue')\n"
   ]
  },
  {
   "cell_type": "code",
   "execution_count": 36,
   "metadata": {},
   "outputs": [
    {
     "data": {
      "text/plain": [
       "Text(0, 0.5, 'Revenue')"
      ]
     },
     "execution_count": 36,
     "metadata": {},
     "output_type": "execute_result"
    },
    {
     "data": {
      "image/png": "[encoded data removed]",
      "text/plain": [
       "<Figure size 640x480 with 1 Axes>"
      ]
     },
     "metadata": {},
     "output_type": "display_data"
    }
   ],
   "source": [
    "# Gráfico de dispersión de los pedidos por usuario por grupo\n",
    "\n",
    "# Grupo A\n",
    "\n",
    "orders_A = orders_[orders_['group'] == 'A']\n",
    "\n",
    "# Definir los valores del eje X\n",
    "\n",
    "x_valores_A = pd.Series(range(0,len(orders_A['order_revenue'])))\n",
    "\n",
    "# Gráfico de dispersión\n",
    "\n",
    "plt.scatter(x_valores_A, orders_A['order_revenue'])\n",
    "\n",
    "plt.title('Grupo A: Dispersión del tamaño de los pedidos (revenue)')\n",
    "plt.xlabel('Pedidos')\n",
    "plt.ylabel('Revenue')"
   ]
  },
  {
   "cell_type": "code",
   "execution_count": 37,
   "metadata": {},
   "outputs": [
    {
     "data": {
      "text/plain": [
       "Text(0, 0.5, 'Revenue')"
      ]
     },
     "execution_count": 37,
     "metadata": {},
     "output_type": "execute_result"
    },
    {
     "data": {
      "image/png": "[encoded data removed]",
      "text/plain": [
       "<Figure size 640x480 with 1 Axes>"
      ]
     },
     "metadata": {},
     "output_type": "display_data"
    }
   ],
   "source": [
    "# Gráfico de dispersión de los pedidos por usuario por grupo\n",
    "\n",
    "# Grupo B\n",
    "\n",
    "orders_B = orders_[orders_['group'] == 'B']\n",
    "\n",
    "# Definir los valores del eje X\n",
    "\n",
    "x_valores_B = pd.Series(range(0,len(orders_B['order_revenue'])))\n",
    "\n",
    "# Gráfico de dispersión\n",
    "\n",
    "plt.scatter(x_valores_B, orders_B['order_revenue'])\n",
    "\n",
    "plt.title('Grupo B: Dispersión del tamaño de los pedidos (revenue)')\n",
    "plt.xlabel('Pedidos')\n",
    "plt.ylabel('Revenue')"
   ]
  },
  {
   "cell_type": "markdown",
   "metadata": {},
   "source": [
    "#### **Conclusiones: Dispersión del monto de los pedidos**\n",
    "\n",
    "* Como se observa en el gráfico existen algunos pedidos grandes, algunos arriba de \\$2,500 y llegando a los $20,000.\n",
    "* Estos pedidos atípicos podrían estar afectado el comportamiento de los grupos, especialmente los del grupo ‘B’.\n",
    "* La mayoría de los pedidos se encuentran por debajo de los \\$1500.\n",
    "* Analizando los pedidos del grupo ‘A’ encontramos que su rango es más pequeño, por debajo de los \\$1,500, pero con una distribución de pedidos mas amplia,\n",
    "* Por otra parte, el grupo ‘B’ contiene los valores atípicos mas altos, incluido los pedidos de \\$20,000.\n"
   ]
  },
  {
   "cell_type": "markdown",
   "metadata": {},
   "source": [
    "### **Percentiles de los tamaños de pedidos por usuario**"
   ]
  },
  {
   "cell_type": "code",
   "execution_count": 38,
   "metadata": {},
   "outputs": [
    {
     "name": "stdout",
     "output_type": "stream",
     "text": [
      "Percentiles 90, 95 y 99: [282.48  435.54  900.904]\n"
     ]
    }
   ],
   "source": [
    "# Calcular los percentiles 90, 95 y 99\n",
    "\n",
    "print('Percentiles 90, 95 y 99:', np.percentile(orders_['order_revenue'],[90, 95, 99]))"
   ]
  },
  {
   "cell_type": "code",
   "execution_count": 39,
   "metadata": {
    "scrolled": true
   },
   "outputs": [
    {
     "name": "stdout",
     "output_type": "stream",
     "text": [
      "Grupo A: percentiles 90, 95 y 99: [280.8   413.48  967.796]\n",
      "\n",
      "Grupo B: percentiles 90, 95 y 99: [285.82  445.825 857.872]\n"
     ]
    }
   ],
   "source": [
    "# Calcular los percentiles 90, 95 y 99 por grupo\n",
    "\n",
    "# Grupo A\n",
    "\n",
    "print('Grupo A: percentiles 90, 95 y 99:', np.percentile(orders_A['order_revenue'],[90, 95, 99]))\n",
    "\n",
    "print()\n",
    "\n",
    "# Grupo B\n",
    "\n",
    "print('Grupo B: percentiles 90, 95 y 99:', np.percentile(orders_B['order_revenue'],[90, 95, 99]))"
   ]
  },
  {
   "cell_type": "markdown",
   "metadata": {},
   "source": [
    "#### **Conclusiones: Percentiles de los tamaños de pedidos**\n",
    "\n",
    "* No más del 5% de los pedidos superan el monto de: \\$ 435.54\n",
    "* No más del 1% de los pedidos superan el monto de: \\$ 900.90\n",
    "* Al revisar por grupo, encontramos que los montos de los pedidos son similares al comportamiento general, una vez que se han eliminado los valores atípicos de los datos."
   ]
  },
  {
   "cell_type": "markdown",
   "metadata": {},
   "source": [
    "### **Dispersión del número de pedidos por usuario**"
   ]
  },
  {
   "cell_type": "code",
   "execution_count": 40,
   "metadata": {},
   "outputs": [
    {
     "name": "stdout",
     "output_type": "stream",
     "text": [
      "      visitor_id  orders\n",
      "1023  4256040402      11\n",
      "591   2458001652      11\n",
      "569   2378935119       9\n",
      "487   2038680547       8\n",
      "44     199603092       5\n",
      "744   3062433592       5\n",
      "55     237748145       5\n",
      "917   3803269165       5\n",
      "299   1230306981       5\n",
      "897   3717692402       5\n"
     ]
    }
   ],
   "source": [
    "# Pedidos por usuario\n",
    "\n",
    "orders_usuario = (\n",
    "orders_.groupby('visitor_id', as_index=False)\n",
    ".agg({'transaction_id': pd.Series.nunique})\n",
    ")\n",
    "\n",
    "orders_usuario.columns = ['visitor_id', 'orders']\n",
    "\n",
    "print(orders_usuario.sort_values(by = 'orders', ascending = False).head(10))"
   ]
  },
  {
   "cell_type": "code",
   "execution_count": 41,
   "metadata": {},
   "outputs": [
    {
     "data": {
      "text/plain": [
       "Text(0, 0.5, 'Pedidos')"
      ]
     },
     "execution_count": 41,
     "metadata": {},
     "output_type": "execute_result"
    },
    {
     "data": {
      "image/png": "[encoded data removed]",
      "text/plain": [
       "<Figure size 640x480 with 1 Axes>"
      ]
     },
     "metadata": {},
     "output_type": "display_data"
    }
   ],
   "source": [
    "# Gráfico de dispoersión de número de pedidos\n",
    "\n",
    "x_values_usuario = pd.Series(range(0,len(orders_usuario)))\n",
    "\n",
    "plt.scatter(x_values_usuario, orders_usuario['orders'])\n",
    "\n",
    "plt.title('Dispersión pedidos por usuario')\n",
    "plt.xlabel('Usuarios')\n",
    "plt.ylabel('Pedidos')"
   ]
  },
  {
   "cell_type": "markdown",
   "metadata": {},
   "source": [
    "#### **Conclusiones: Dispersión número de pedidos por usuario**\n",
    "\n",
    "* Existe una cantidad importante de usuarios con 2 o más pedidos.\n",
    "* Existen usuarios con más de 10 pedidos.\n",
    "* La mayoría de los usuarios realizan solo 1 pedido."
   ]
  },
  {
   "cell_type": "markdown",
   "metadata": {},
   "source": [
    "### **Percentiles del número de pedidos por usuario**"
   ]
  },
  {
   "cell_type": "code",
   "execution_count": 42,
   "metadata": {},
   "outputs": [
    {
     "name": "stdout",
     "output_type": "stream",
     "text": [
      "Percentiles 90, 95 y 99: [1. 2. 4.]\n"
     ]
    }
   ],
   "source": [
    "# Calcular los percentiles del número de pedidos por usuario\n",
    "\n",
    "# Calcular los percentiles 90, 95 y 99\n",
    "\n",
    "print('Percentiles 90, 95 y 99:', np.percentile(orders_usuario['orders'],[90, 95, 99]))"
   ]
  },
  {
   "cell_type": "markdown",
   "metadata": {},
   "source": [
    "#### **Conclusiones: Percentiles dispersión número de pedidos por usuario**\n",
    "\n",
    "* No más del 5% de los usuarios realizan más de 2 pedidos.\n",
    "* No más del 1% de los usuarios realizan más de 4 pedidos.\n",
    "* La mayoría de los usuarios realizan 1 pedido.\n"
   ]
  },
  {
   "cell_type": "markdown",
   "metadata": {},
   "source": [
    "<div class=\"alert alert-block alert-success\">\n",
    "<b>Comentario general (1ra Iteracion)</b> <a class=“tocSkip”></a>\n",
    "\n",
    "Buen trabajo revisando los percentiles, encontrar valores atípicos puede ser crucial al momento de mostrar métricas correctas ya que estos pueden afectar los resultados finales\n",
    "</div>"
   ]
  },
  {
   "cell_type": "markdown",
   "metadata": {},
   "source": [
    "### **Significancia estádistica de la conversión de los grupos con datos en bruto**"
   ]
  },
  {
   "cell_type": "code",
   "execution_count": 43,
   "metadata": {},
   "outputs": [
    {
     "name": "stdout",
     "output_type": "stream",
     "text": [
      "Grupo A: orders por usuario:\n",
      "    user_id  orders\n",
      "0   8300375       1\n",
      "1  11685486       1\n",
      "2  54447517       1\n",
      "3  66685450       1\n",
      "4  78758296       1\n",
      "\n",
      "Grupo B: orders por usuario:\n",
      "    user_id  orders\n",
      "0   5114589       1\n",
      "1   6958315       1\n",
      "2   8300375       1\n",
      "3  39475350       1\n",
      "4  47206413       1\n"
     ]
    }
   ],
   "source": [
    "# Crear los grupos de los usuarios con al menos 1 pedido\n",
    "\n",
    "# Grupo A\n",
    "\n",
    "A_orders_usuario = orders_[orders_['group'] == 'A'].groupby('visitor_id', as_index = False).agg({'transaction_id' : pd.Series.nunique})\n",
    "\n",
    "A_orders_usuario.columns = ['user_id', 'orders']\n",
    "\n",
    "print('Grupo A: orders por usuario:')\n",
    "\n",
    "print(A_orders_usuario.head(5))\n",
    "\n",
    "print()\n",
    "\n",
    "# Grupo B\n",
    "\n",
    "B_orders_usuario = orders_[orders_['group'] == 'B'].groupby('visitor_id', as_index=False).agg({'transaction_id' : pd.Series.nunique})\n",
    "\n",
    "B_orders_usuario.columns = ['user_id', 'orders']\n",
    "\n",
    "print('Grupo B: orders por usuario:')\n",
    "\n",
    "print(B_orders_usuario.head(5))\n"
   ]
  },
  {
   "cell_type": "code",
   "execution_count": 44,
   "metadata": {},
   "outputs": [],
   "source": [
    "# Crear las muestras A y B\n",
    "\n",
    "# Muestra A\n",
    "\n",
    "muestra_A = pd.concat([A_orders_usuario['orders'],pd.Series(0, index=np.arange(visits[visits['group'] == 'A']['visits'].sum() - len(A_orders_usuario['orders'])), name = 'orders')],axis = 0)\n",
    "\n",
    "# Muestra B\n",
    "\n",
    "muestra_B = pd.concat([B_orders_usuario['orders'],pd.Series(0, index=np.arange(visits[visits['group'] == 'B']['visits'].sum() - len(B_orders_usuario['orders'])), name = 'orders')],axis=0)"
   ]
  },
  {
   "cell_type": "code",
   "execution_count": 45,
   "metadata": {},
   "outputs": [
    {
     "name": "stdout",
     "output_type": "stream",
     "text": [
      "Valor p: 0.017\n",
      "\n",
      "Diferencia relativa del grupo B:\n",
      "0.138\n"
     ]
    }
   ],
   "source": [
    "# Calcular la diferencia de la significancia estádistica\n",
    "\n",
    "alpha = 0.05\n",
    "\n",
    "valor_p = (\"{0:.3f}\".format(st.mannwhitneyu(muestra_A, muestra_B)[1]))\n",
    "\n",
    "print('Valor p:', valor_p)\n",
    "\n",
    "print()\n",
    "\n",
    "print('Diferencia relativa del grupo B:')\n",
    "\n",
    "print(\"{0:.3f}\".format(muestra_B.mean() / muestra_A.mean() - 1))"
   ]
  },
  {
   "cell_type": "markdown",
   "metadata": {},
   "source": [
    "#### **Conclusiones: Significancia estádistica de la conversión de los grupos con datos en bruto**\n",
    "\n",
    "De acuerdo a los datos en bruto:\n",
    "\n",
    "* Podemos rechazar la hipótesis nula: 'No hay una diferencia estádisticamente significativa en la conversión entre los grupos' y a que el valor p es menor a 0.05.\n",
    "\n",
    "* La ganancia relativa del grupo 'B' es del 13.8%"
   ]
  },
  {
   "cell_type": "markdown",
   "metadata": {},
   "source": [
    "### **Significancia estádistica del tamaño promedio del pedido (revenue) con datos en bruto**"
   ]
  },
  {
   "cell_type": "code",
   "execution_count": 46,
   "metadata": {},
   "outputs": [
    {
     "name": "stdout",
     "output_type": "stream",
     "text": [
      "Valor p: 0.017\n",
      "\n",
      "Diferencia relativa del grupo B:\n",
      "0.252\n"
     ]
    }
   ],
   "source": [
    "# Calcular la diferencia de la significancia estádistica\n",
    "\n",
    "valor_p_revenue = (\"{0:.3f}\".format(st.mannwhitneyu(orders_[orders_['group'] == 'A']['order_revenue'], orders_[orders_['group'] == 'B']['order_revenue'])[1]))\n",
    "\n",
    "print('Valor p:', valor_p)\n",
    "\n",
    "print()\n",
    "\n",
    "print('Diferencia relativa del grupo B:')\n",
    "\n",
    "print(\"{0:.3f}\".format(orders_[orders_['group'] == 'B']['order_revenue'].mean() / orders_[orders_['group'] == 'A']['order_revenue'].mean() - 1))"
   ]
  },
  {
   "cell_type": "markdown",
   "metadata": {},
   "source": [
    "#### **Conclusiones: Significancia estádistica del tamaño del pedido (revenue) con datos en bruto**\n",
    "\n",
    "De acuerdo a los datos en bruto:\n",
    "\n",
    "* Podemos rechazar la hipótesis nula: 'No hay una diferencia estádisticamente significativa en el tamaño del pedido (revenue) entre los grupos' ya que el valor p es menor a 0.05.\n",
    "\n",
    "* La ganancia relativa del grupo 'B' es del 25.2%"
   ]
  },
  {
   "cell_type": "markdown",
   "metadata": {},
   "source": [
    "<div class=\"alert alert-block alert-success\">\n",
    "<b>Comentario general (1ra Iteracion)</b> <a class=“tocSkip”></a>\n",
    "\n",
    "Muy bien realizada la aplicación de la prueba estadística, ahora hay que ver los resultados con los datos filtrados\n",
    "    \n",
    "</div>"
   ]
  },
  {
   "cell_type": "markdown",
   "metadata": {},
   "source": [
    "### **Significancia estádistica de la conversión de los grupos con datos filtrados (sin atípicos)**"
   ]
  },
  {
   "cell_type": "markdown",
   "metadata": {},
   "source": [
    "#### **Definición de usuarios anónalos:**\n",
    "\n",
    "* Pedidos: usuarios con más de 2 pedidos (percentil 95)\n",
    "* Monto pedidos: usuarios con más de: \\$ 435.54 gastado (percentil 95) "
   ]
  },
  {
   "cell_type": "code",
   "execution_count": 47,
   "metadata": {},
   "outputs": [
    {
     "name": "stdout",
     "output_type": "stream",
     "text": [
      "Usuarios anormales:\n",
      "\n",
      "1099    148427295\n",
      "18      199603092\n",
      "928     204675465\n",
      "23      237748145\n",
      "37      249864742\n",
      "dtype: int64\n",
      "\n",
      "(74,)\n"
     ]
    }
   ],
   "source": [
    "# Encontrar los usuarios anómalos\n",
    "\n",
    "usuarios_muchas_orders = pd.concat([A_orders_usuario[A_orders_usuario['orders'] > 2]['user_id'], B_orders_usuario[B_orders_usuario['orders'] > 2]['user_id']], axis = 0)\n",
    "\n",
    "usuarios_revenue_alto = orders_[orders_['order_revenue'] > 435.54]['visitor_id']\n",
    "\n",
    "usuarios_anormales = pd.concat([usuarios_muchas_orders, usuarios_revenue_alto], axis = 0).drop_duplicates().sort_values()\n",
    "\n",
    "print('Usuarios anormales:')\n",
    "\n",
    "print()\n",
    "\n",
    "print(usuarios_anormales.head(5))\n",
    "\n",
    "print()\n",
    "\n",
    "print(usuarios_anormales.shape)\n",
    "\n",
    " "
   ]
  },
  {
   "cell_type": "markdown",
   "metadata": {},
   "source": [
    "Se cuenta con 74 usuarios anómalos identificados."
   ]
  },
  {
   "cell_type": "code",
   "execution_count": 48,
   "metadata": {},
   "outputs": [
    {
     "name": "stdout",
     "output_type": "stream",
     "text": [
      "Muestra A filtrada:\n",
      "0    1\n",
      "1    1\n",
      "2    1\n",
      "3    1\n",
      "4    1\n",
      "Name: orders, dtype: int64\n",
      "\n",
      "Muestra B filtrada:\n",
      "0    1\n",
      "1    1\n",
      "2    1\n",
      "3    1\n",
      "4    1\n",
      "Name: orders, dtype: int64\n"
     ]
    }
   ],
   "source": [
    "# Creación de muestras filtradas\n",
    "\n",
    "# Muestra A filtrada\n",
    "\n",
    "muestra_A_filtrada = pd.concat([A_orders_usuario[np.logical_not(A_orders_usuario['user_id'].isin(usuarios_anormales))]['orders'],pd.Series(0, index=np.arange(visits[visits['group'] == 'A']['visits'].sum() - len(A_orders_usuario['orders'])),name = 'orders')],axis=0)\n",
    "\n",
    "# Muestra B filtrada\n",
    "\n",
    "muestra_B_filtrada = pd.concat([B_orders_usuario[np.logical_not(B_orders_usuario['user_id'].isin(usuarios_anormales))]['orders'],pd.Series(0, index=np.arange(visits[visits['group'] == 'B']['visits'].sum() - len(B_orders_usuario['orders'])),name = 'orders')],axis=0)\n",
    "\n",
    "\n",
    "print('Muestra A filtrada:')\n",
    "\n",
    "print(muestra_A_filtrada.head(5))\n",
    "\n",
    "print()\n",
    "\n",
    "print('Muestra B filtrada:')\n",
    "\n",
    "print(muestra_B_filtrada.head(5))\n"
   ]
  },
  {
   "cell_type": "code",
   "execution_count": 49,
   "metadata": {},
   "outputs": [
    {
     "name": "stdout",
     "output_type": "stream",
     "text": [
      "Valor p: 0.013\n",
      "\n",
      "Diferencia relativa del grupo B:\n",
      "0.173\n"
     ]
    }
   ],
   "source": [
    "# Calcular la diferencia de la significancia estádistica\n",
    "\n",
    "valor_p_filtrada = (\"{0:.3f}\".format(st.mannwhitneyu(muestra_A_filtrada, muestra_B_filtrada)[1]))\n",
    "\n",
    "print('Valor p:', valor_p_filtrada)\n",
    "\n",
    "print()\n",
    "\n",
    "print('Diferencia relativa del grupo B:')\n",
    "\n",
    "print(\"{0:.3f}\".format(muestra_B_filtrada.mean() / muestra_A_filtrada.mean() - 1))"
   ]
  },
  {
   "cell_type": "markdown",
   "metadata": {},
   "source": [
    "#### **Conclusiones: Significancia estádistica de la conversión de los grupos con datos filtrados**\n",
    "\n",
    "De acuerdo a los datos en filtrados:\n",
    "\n",
    "* Podemos rechazar la hipótesis nula: 'No hay una diferencia estádisticamente significativa en la conversión entre los grupos' y a que el valor p es menor a 0.05.\n",
    "\n",
    "* La ganancia relativa del grupo 'B' es del 17.3%\n",
    "* Los datos en general no tuvieron datos considerables contra los datos en bruto"
   ]
  },
  {
   "cell_type": "markdown",
   "metadata": {},
   "source": [
    "### **Significancia estádistica del tamaño promedio del pedido (revenue) con datos en filtrados**"
   ]
  },
  {
   "cell_type": "code",
   "execution_count": 50,
   "metadata": {},
   "outputs": [
    {
     "name": "stdout",
     "output_type": "stream",
     "text": [
      "Valor p:\n",
      "0.788\n",
      "\n",
      "Diferencia relativa:\n",
      "-0.019\n"
     ]
    }
   ],
   "source": [
    "# Muestra el valor p calculado con la prueba U de Mann-Whitney\n",
    "\n",
    "print('Valor p:')\n",
    "\n",
    "print(\"{0:.3f}\".format(st.mannwhitneyu(\n",
    "orders_[np.logical_and(\n",
    "orders_['group'] == 'A', # Selecciona datos en el grupo A\n",
    "np.logical_not(orders_['visitor_id'].isin(usuarios_anormales)))]['order_revenue'], # Excluye los usuarios anormales y selecciona los datos de ingreso para el grupo A\n",
    "orders_[np.logical_and(\n",
    "orders_['group'] == 'B', # Selecciona datos en el grupo B\n",
    "np.logical_not(orders_['visitor_id'].isin(usuarios_anormales)))]['order_revenue'] # Excluye los usuarios anormales y selecciona los datos de ingreso para el grupo B\n",
    ")[1])) # Extrae el valor p de los resultados de la prueba\n",
    "\n",
    "print()\n",
    "\n",
    "# Muestra la diferencia relativa en el ingreso medio entre los grupos B y A\n",
    "\n",
    "print('Diferencia relativa:')\n",
    "\n",
    "print(\"{0:.3f}\".format(\n",
    "orders_[np.logical_and(orders_['group'] == 'B', # Selecciona datos en el grupo B\n",
    "np.logical_not(orders_['visitor_id'].isin(usuarios_anormales)))]['order_revenue'].mean() / # Calcula el ingreso medio para el grupo B\n",
    "orders_[np.logical_and(orders_['group'] == 'A', # Selecciona datos en el grupo A\n",
    "np.logical_not(orders_['visitor_id'].isin(usuarios_anormales)))]['order_revenue'].mean() - 1)) # Calcula el ingreso medio para el grupo A y muestra la diferencia relativa\n"
   ]
  },
  {
   "cell_type": "markdown",
   "metadata": {},
   "source": [
    "#### **Conclusiones: Significancia estádistica del tamaño del pedido (revenue) con datos filtrados**\n",
    "\n",
    "De acuerdo a los datos filtrados:\n",
    "\n",
    "* NO podemos rechazar la hipótesis nula: 'No hay una diferencia estádisticamente significativa en el tamaño del pedido (revenue) entre los grupos' ya que el valor p es mayor a 0.05.\n",
    "\n",
    "* A diferencia que con los datos brutos, el valor p aumentó.\n",
    "\n",
    "* La diferencia relativa del grupo 'B' es del -1.9%"
   ]
  },
  {
   "cell_type": "markdown",
   "metadata": {},
   "source": [
    "## **Conclusiones de la prueba**\n",
    "\n",
    "\n",
    "Después de realizar los análisis estadísticos con datos filtrados encontramos:\n",
    "\n",
    "* No existen diferencias significativas en cuanto al tamaño del pedido promedio por usuario entre los grupos. \n",
    "* Existen diferencias significativas en cuanto a las tasas de conversión entre los grupos, el grupo B tiene una mejor tasa de conversión.\n",
    "* Aunque los datos en bruto muestran una mejora considerable en los usuarios del grupo ‘B’ esta se encuentra altamente influenciada por los datos atípicos.\n",
    "\n",
    "**Se recomienda para la prueba bajo los siguientes escenarios:**\n",
    "\n",
    "* **Objetivo de la prueba: Mejorar la tasa de conversión de los usuarios visitantes a la tienda online.**\n",
    "\n",
    "En este caso, se podría considerar la prueba un éxito para el grupo 'B' ya que los cambios realizados lograron alcanzar una diferencia significativa en la tasa de conversión.\n",
    "\n",
    "* **Objetivo de la prueba: Mejorar el tamaño de la compra (revenue) por usuario.**\n",
    "\n",
    "Bajo este escenario, las diferencias del tamaño promedio de la compra no lograron ser significativas, ligeramente mas bajas para el grupo 'B', aunque a primera vista con los datos brutos pareciera lo contrario, al descartar los eventos atípicos, no es así.\n"
   ]
  },
  {
   "cell_type": "markdown",
   "metadata": {},
   "source": [
    "<div class=\"alert alert-block alert-success\">\n",
    "<b>Comentario general (1ra Iteracion)</b> <a class=“tocSkip”></a>\n",
    "\n",
    "Hiciste un buen trabajo con las visualizaciones, los cálculos y  los ejercicios propuestos los has resuelto muy bien planteando conclusiones claras sobre los resultados obtenidos en cada paso.\n",
    "    \n",
    "Planteaste muy buenas conclusiones en base a tus datos que es un punto importante que deben tener tus proyectos, como Data Analyst debes buscar apoyar en la toma de decisiones basadas en datos.\n",
    "    \n",
    "Saludos!\n",
    "</div>"
   ]
  }
 ],
 "metadata": {
  "ExecuteTimeLog": [
   {
    "duration": 2548,
    "start_time": "2025-02-25T22:13:38.343Z"
   },
   {
    "duration": 4,
    "start_time": "2025-02-25T22:14:53.535Z"
   },
   {
    "duration": 26,
    "start_time": "2025-02-25T22:19:38.449Z"
   },
   {
    "duration": 8,
    "start_time": "2025-02-25T22:21:20.388Z"
   },
   {
    "duration": 15,
    "start_time": "2025-02-25T22:21:40.973Z"
   },
   {
    "duration": 8,
    "start_time": "2025-02-25T22:21:45.774Z"
   },
   {
    "duration": 6,
    "start_time": "2025-02-25T22:23:07.813Z"
   },
   {
    "duration": 4,
    "start_time": "2025-02-25T22:25:08.780Z"
   },
   {
    "duration": 3,
    "start_time": "2025-02-25T22:25:43.453Z"
   },
   {
    "duration": 5,
    "start_time": "2025-02-25T22:30:11.275Z"
   },
   {
    "duration": 8,
    "start_time": "2025-02-25T22:35:06.742Z"
   },
   {
    "duration": 5,
    "start_time": "2025-02-25T22:35:32.052Z"
   },
   {
    "duration": 4,
    "start_time": "2025-02-25T22:37:10.808Z"
   },
   {
    "duration": 5,
    "start_time": "2025-02-25T22:38:14.608Z"
   },
   {
    "duration": 4,
    "start_time": "2025-02-25T22:38:42.207Z"
   },
   {
    "duration": 654,
    "start_time": "2025-02-25T22:42:10.986Z"
   },
   {
    "duration": 74,
    "start_time": "2025-02-25T22:42:55.286Z"
   },
   {
    "duration": 19,
    "start_time": "2025-02-25T22:44:31.001Z"
   },
   {
    "duration": 14,
    "start_time": "2025-02-25T22:45:23.542Z"
   },
   {
    "duration": 6,
    "start_time": "2025-02-25T22:49:47.394Z"
   },
   {
    "duration": 5,
    "start_time": "2025-02-25T22:51:03.933Z"
   },
   {
    "duration": 14,
    "start_time": "2025-02-25T22:51:17.944Z"
   },
   {
    "duration": 3,
    "start_time": "2025-02-25T22:51:24.823Z"
   },
   {
    "duration": 8,
    "start_time": "2025-02-25T22:52:01.491Z"
   },
   {
    "duration": 9,
    "start_time": "2025-02-25T22:52:27.821Z"
   },
   {
    "duration": 10,
    "start_time": "2025-02-25T22:54:12.280Z"
   },
   {
    "duration": 7,
    "start_time": "2025-02-25T22:54:28.721Z"
   },
   {
    "duration": 207,
    "start_time": "2025-02-25T22:55:27.219Z"
   },
   {
    "duration": 10,
    "start_time": "2025-02-25T22:56:23.395Z"
   },
   {
    "duration": 6,
    "start_time": "2025-02-25T22:56:36.604Z"
   },
   {
    "duration": 7,
    "start_time": "2025-02-25T22:58:38.660Z"
   },
   {
    "duration": 509,
    "start_time": "2025-02-25T22:58:45.251Z"
   },
   {
    "duration": 35,
    "start_time": "2025-02-25T22:58:59.148Z"
   },
   {
    "duration": 5,
    "start_time": "2025-02-25T22:59:22.853Z"
   },
   {
    "duration": 40,
    "start_time": "2025-02-25T23:01:19.073Z"
   },
   {
    "duration": 161,
    "start_time": "2025-02-25T23:01:48.279Z"
   },
   {
    "duration": 67,
    "start_time": "2025-02-25T23:04:25.912Z"
   },
   {
    "duration": 43,
    "start_time": "2025-02-25T23:04:44.452Z"
   },
   {
    "duration": 40,
    "start_time": "2025-02-25T23:05:07.087Z"
   },
   {
    "duration": 58,
    "start_time": "2025-02-25T23:05:08.996Z"
   },
   {
    "duration": 3,
    "start_time": "2025-02-25T23:05:12.203Z"
   },
   {
    "duration": 18,
    "start_time": "2025-02-25T23:05:12.208Z"
   },
   {
    "duration": 9,
    "start_time": "2025-02-25T23:05:12.227Z"
   },
   {
    "duration": 5,
    "start_time": "2025-02-25T23:05:12.238Z"
   },
   {
    "duration": 4,
    "start_time": "2025-02-25T23:05:12.244Z"
   },
   {
    "duration": 8,
    "start_time": "2025-02-25T23:05:12.249Z"
   },
   {
    "duration": 9,
    "start_time": "2025-02-25T23:05:12.259Z"
   },
   {
    "duration": 35,
    "start_time": "2025-02-25T23:05:12.272Z"
   },
   {
    "duration": 4,
    "start_time": "2025-02-25T23:05:12.309Z"
   },
   {
    "duration": 4,
    "start_time": "2025-02-25T23:05:12.317Z"
   },
   {
    "duration": 41,
    "start_time": "2025-02-25T23:05:12.323Z"
   },
   {
    "duration": 0,
    "start_time": "2025-02-25T23:05:12.366Z"
   },
   {
    "duration": 0,
    "start_time": "2025-02-25T23:05:12.367Z"
   },
   {
    "duration": 0,
    "start_time": "2025-02-25T23:05:12.368Z"
   },
   {
    "duration": 11,
    "start_time": "2025-02-25T23:05:24.902Z"
   },
   {
    "duration": 9,
    "start_time": "2025-02-25T23:05:37.989Z"
   },
   {
    "duration": 47,
    "start_time": "2025-02-25T23:05:48.849Z"
   },
   {
    "duration": 127,
    "start_time": "2025-02-25T23:06:05.439Z"
   },
   {
    "duration": 11,
    "start_time": "2025-02-25T23:06:15.795Z"
   },
   {
    "duration": 38,
    "start_time": "2025-02-25T23:06:50.883Z"
   },
   {
    "duration": 6,
    "start_time": "2025-02-25T23:07:50.650Z"
   },
   {
    "duration": 9,
    "start_time": "2025-02-25T23:12:43.482Z"
   },
   {
    "duration": 9,
    "start_time": "2025-02-25T23:13:03.695Z"
   },
   {
    "duration": 6,
    "start_time": "2025-02-25T23:14:00.213Z"
   },
   {
    "duration": 3,
    "start_time": "2025-02-25T23:14:11.497Z"
   },
   {
    "duration": 6,
    "start_time": "2025-02-25T23:15:16.330Z"
   },
   {
    "duration": 5,
    "start_time": "2025-02-25T23:15:37.543Z"
   },
   {
    "duration": 4,
    "start_time": "2025-02-25T23:16:03.946Z"
   },
   {
    "duration": 9,
    "start_time": "2025-02-25T23:17:43.982Z"
   },
   {
    "duration": 20,
    "start_time": "2025-02-25T23:18:08.309Z"
   },
   {
    "duration": 11,
    "start_time": "2025-02-25T23:18:14.985Z"
   },
   {
    "duration": 80,
    "start_time": "2025-02-25T23:19:51.908Z"
   },
   {
    "duration": 6,
    "start_time": "2025-02-25T23:20:13.507Z"
   },
   {
    "duration": 68,
    "start_time": "2025-02-25T23:21:30.057Z"
   },
   {
    "duration": 14,
    "start_time": "2025-02-25T23:21:59.992Z"
   },
   {
    "duration": 4,
    "start_time": "2025-02-25T23:23:23.033Z"
   },
   {
    "duration": 4,
    "start_time": "2025-02-25T23:23:59.133Z"
   },
   {
    "duration": 10,
    "start_time": "2025-02-25T23:24:17.596Z"
   },
   {
    "duration": 36,
    "start_time": "2025-02-25T23:25:05.500Z"
   },
   {
    "duration": 10,
    "start_time": "2025-02-25T23:25:16.111Z"
   },
   {
    "duration": 11,
    "start_time": "2025-02-25T23:25:28.164Z"
   },
   {
    "duration": 5,
    "start_time": "2025-02-25T23:26:25.942Z"
   },
   {
    "duration": 13,
    "start_time": "2025-02-25T23:26:34.696Z"
   },
   {
    "duration": 4,
    "start_time": "2025-02-25T23:27:01.142Z"
   },
   {
    "duration": 48,
    "start_time": "2025-02-25T23:27:07.968Z"
   },
   {
    "duration": 44,
    "start_time": "2025-02-25T23:27:21.560Z"
   },
   {
    "duration": 16,
    "start_time": "2025-02-25T23:27:39.707Z"
   },
   {
    "duration": 6,
    "start_time": "2025-02-25T23:27:50.876Z"
   },
   {
    "duration": 6,
    "start_time": "2025-02-25T23:28:43.371Z"
   },
   {
    "duration": 6,
    "start_time": "2025-02-25T23:29:02.336Z"
   },
   {
    "duration": 7,
    "start_time": "2025-02-25T23:29:38.241Z"
   },
   {
    "duration": 6,
    "start_time": "2025-02-25T23:29:48.475Z"
   },
   {
    "duration": 7,
    "start_time": "2025-02-25T23:29:53.075Z"
   },
   {
    "duration": 6,
    "start_time": "2025-02-25T23:30:30.043Z"
   },
   {
    "duration": 22,
    "start_time": "2025-02-25T23:31:07.935Z"
   },
   {
    "duration": 85,
    "start_time": "2025-02-25T23:31:16.771Z"
   },
   {
    "duration": 58,
    "start_time": "2025-02-25T23:31:33.121Z"
   },
   {
    "duration": 8,
    "start_time": "2025-02-25T23:31:44.412Z"
   },
   {
    "duration": 5,
    "start_time": "2025-02-25T23:32:42.446Z"
   },
   {
    "duration": 56,
    "start_time": "2025-02-26T00:19:43.507Z"
   },
   {
    "duration": 15,
    "start_time": "2025-02-26T00:20:42.840Z"
   },
   {
    "duration": 4,
    "start_time": "2025-02-26T00:20:51.136Z"
   },
   {
    "duration": 69,
    "start_time": "2025-02-26T00:20:58.915Z"
   },
   {
    "duration": 17,
    "start_time": "2025-02-26T00:21:29.200Z"
   },
   {
    "duration": 5,
    "start_time": "2025-02-26T00:22:24.706Z"
   },
   {
    "duration": 70,
    "start_time": "2025-02-26T00:22:30.232Z"
   },
   {
    "duration": 10,
    "start_time": "2025-02-26T00:22:49.128Z"
   },
   {
    "duration": 5,
    "start_time": "2025-02-26T00:23:07.772Z"
   },
   {
    "duration": 38,
    "start_time": "2025-02-26T00:23:10.024Z"
   },
   {
    "duration": 29,
    "start_time": "2025-02-26T00:23:24.963Z"
   },
   {
    "duration": 3,
    "start_time": "2025-02-26T00:23:37.695Z"
   },
   {
    "duration": 7,
    "start_time": "2025-02-26T00:23:39.778Z"
   },
   {
    "duration": 6,
    "start_time": "2025-02-26T00:23:45.749Z"
   },
   {
    "duration": 10,
    "start_time": "2025-02-26T00:25:13.594Z"
   },
   {
    "duration": 9,
    "start_time": "2025-02-26T00:25:33.553Z"
   },
   {
    "duration": 9,
    "start_time": "2025-02-26T00:26:08.345Z"
   },
   {
    "duration": 9,
    "start_time": "2025-02-26T00:26:14.399Z"
   },
   {
    "duration": 10,
    "start_time": "2025-02-26T00:26:38.994Z"
   },
   {
    "duration": 212,
    "start_time": "2025-02-26T00:28:07.478Z"
   },
   {
    "duration": 10,
    "start_time": "2025-02-26T00:28:18.934Z"
   },
   {
    "duration": 4,
    "start_time": "2025-02-26T00:29:05.458Z"
   },
   {
    "duration": 4,
    "start_time": "2025-02-26T00:29:24.948Z"
   },
   {
    "duration": 6,
    "start_time": "2025-02-26T00:29:36.473Z"
   },
   {
    "duration": 9,
    "start_time": "2025-02-26T00:31:51.598Z"
   },
   {
    "duration": 9,
    "start_time": "2025-02-26T00:36:56.996Z"
   },
   {
    "duration": 46,
    "start_time": "2025-02-26T00:38:59.866Z"
   },
   {
    "duration": 3,
    "start_time": "2025-02-26T00:39:08.862Z"
   },
   {
    "duration": 16,
    "start_time": "2025-02-26T00:39:08.868Z"
   },
   {
    "duration": 10,
    "start_time": "2025-02-26T00:39:08.886Z"
   },
   {
    "duration": 4,
    "start_time": "2025-02-26T00:39:08.900Z"
   },
   {
    "duration": 3,
    "start_time": "2025-02-26T00:39:08.907Z"
   },
   {
    "duration": 6,
    "start_time": "2025-02-26T00:39:08.912Z"
   },
   {
    "duration": 9,
    "start_time": "2025-02-26T00:39:08.920Z"
   },
   {
    "duration": 5,
    "start_time": "2025-02-26T00:39:08.931Z"
   },
   {
    "duration": 3,
    "start_time": "2025-02-26T00:39:08.939Z"
   },
   {
    "duration": 4,
    "start_time": "2025-02-26T00:39:08.944Z"
   },
   {
    "duration": 9,
    "start_time": "2025-02-26T00:39:08.950Z"
   },
   {
    "duration": 5,
    "start_time": "2025-02-26T00:39:08.960Z"
   },
   {
    "duration": 12,
    "start_time": "2025-02-26T00:39:09.004Z"
   },
   {
    "duration": 4,
    "start_time": "2025-02-26T00:39:09.017Z"
   },
   {
    "duration": 7,
    "start_time": "2025-02-26T00:39:09.022Z"
   },
   {
    "duration": 6,
    "start_time": "2025-02-26T00:39:09.031Z"
   },
   {
    "duration": 8,
    "start_time": "2025-02-26T00:39:09.039Z"
   },
   {
    "duration": 5,
    "start_time": "2025-02-26T00:39:09.049Z"
   },
   {
    "duration": 3,
    "start_time": "2025-02-26T00:39:09.055Z"
   },
   {
    "duration": 47,
    "start_time": "2025-02-26T00:39:09.060Z"
   },
   {
    "duration": 10,
    "start_time": "2025-02-26T00:39:09.109Z"
   },
   {
    "duration": 6,
    "start_time": "2025-02-26T00:39:09.120Z"
   },
   {
    "duration": 14,
    "start_time": "2025-02-26T00:39:09.129Z"
   },
   {
    "duration": 15,
    "start_time": "2025-02-26T00:39:31.410Z"
   },
   {
    "duration": 6,
    "start_time": "2025-02-26T00:40:04.984Z"
   },
   {
    "duration": 7,
    "start_time": "2025-02-26T00:40:20.388Z"
   },
   {
    "duration": 6,
    "start_time": "2025-02-26T00:40:51.834Z"
   },
   {
    "duration": 5,
    "start_time": "2025-02-26T00:42:01.404Z"
   },
   {
    "duration": 6,
    "start_time": "2025-02-26T00:42:08.804Z"
   },
   {
    "duration": 3,
    "start_time": "2025-02-26T00:42:34.962Z"
   },
   {
    "duration": 17,
    "start_time": "2025-02-26T00:42:34.968Z"
   },
   {
    "duration": 8,
    "start_time": "2025-02-26T00:42:34.986Z"
   },
   {
    "duration": 5,
    "start_time": "2025-02-26T00:42:34.996Z"
   },
   {
    "duration": 4,
    "start_time": "2025-02-26T00:42:35.003Z"
   },
   {
    "duration": 6,
    "start_time": "2025-02-26T00:42:35.008Z"
   },
   {
    "duration": 9,
    "start_time": "2025-02-26T00:42:35.015Z"
   },
   {
    "duration": 4,
    "start_time": "2025-02-26T00:42:35.026Z"
   },
   {
    "duration": 3,
    "start_time": "2025-02-26T00:42:35.033Z"
   },
   {
    "duration": 4,
    "start_time": "2025-02-26T00:42:35.038Z"
   },
   {
    "duration": 8,
    "start_time": "2025-02-26T00:42:35.044Z"
   },
   {
    "duration": 5,
    "start_time": "2025-02-26T00:42:35.053Z"
   },
   {
    "duration": 51,
    "start_time": "2025-02-26T00:42:35.059Z"
   },
   {
    "duration": 3,
    "start_time": "2025-02-26T00:42:35.112Z"
   },
   {
    "duration": 6,
    "start_time": "2025-02-26T00:42:35.117Z"
   },
   {
    "duration": 6,
    "start_time": "2025-02-26T00:42:35.124Z"
   },
   {
    "duration": 8,
    "start_time": "2025-02-26T00:42:35.132Z"
   },
   {
    "duration": 5,
    "start_time": "2025-02-26T00:42:35.142Z"
   },
   {
    "duration": 4,
    "start_time": "2025-02-26T00:42:35.148Z"
   },
   {
    "duration": 5,
    "start_time": "2025-02-26T00:42:35.154Z"
   },
   {
    "duration": 48,
    "start_time": "2025-02-26T00:42:35.160Z"
   },
   {
    "duration": 5,
    "start_time": "2025-02-26T00:42:35.210Z"
   },
   {
    "duration": 7,
    "start_time": "2025-02-26T00:42:35.217Z"
   },
   {
    "duration": 8,
    "start_time": "2025-02-26T00:45:00.109Z"
   },
   {
    "duration": 7,
    "start_time": "2025-02-26T00:46:14.350Z"
   },
   {
    "duration": 6,
    "start_time": "2025-02-26T01:21:08.869Z"
   },
   {
    "duration": 3,
    "start_time": "2025-02-26T01:21:38.557Z"
   },
   {
    "duration": 15,
    "start_time": "2025-02-26T01:21:38.562Z"
   },
   {
    "duration": 10,
    "start_time": "2025-02-26T01:21:38.579Z"
   },
   {
    "duration": 5,
    "start_time": "2025-02-26T01:21:38.592Z"
   },
   {
    "duration": 4,
    "start_time": "2025-02-26T01:21:38.599Z"
   },
   {
    "duration": 6,
    "start_time": "2025-02-26T01:21:38.604Z"
   },
   {
    "duration": 11,
    "start_time": "2025-02-26T01:21:38.611Z"
   },
   {
    "duration": 6,
    "start_time": "2025-02-26T01:21:38.624Z"
   },
   {
    "duration": 3,
    "start_time": "2025-02-26T01:21:38.634Z"
   },
   {
    "duration": 4,
    "start_time": "2025-02-26T01:21:38.639Z"
   },
   {
    "duration": 9,
    "start_time": "2025-02-26T01:21:38.645Z"
   },
   {
    "duration": 5,
    "start_time": "2025-02-26T01:21:38.655Z"
   },
   {
    "duration": 53,
    "start_time": "2025-02-26T01:21:38.661Z"
   },
   {
    "duration": 4,
    "start_time": "2025-02-26T01:21:38.716Z"
   },
   {
    "duration": 6,
    "start_time": "2025-02-26T01:21:38.722Z"
   },
   {
    "duration": 6,
    "start_time": "2025-02-26T01:21:38.730Z"
   },
   {
    "duration": 8,
    "start_time": "2025-02-26T01:21:38.738Z"
   },
   {
    "duration": 5,
    "start_time": "2025-02-26T01:21:38.747Z"
   },
   {
    "duration": 4,
    "start_time": "2025-02-26T01:21:38.753Z"
   },
   {
    "duration": 4,
    "start_time": "2025-02-26T01:21:38.759Z"
   },
   {
    "duration": 48,
    "start_time": "2025-02-26T01:21:38.764Z"
   },
   {
    "duration": 5,
    "start_time": "2025-02-26T01:21:38.814Z"
   },
   {
    "duration": 8,
    "start_time": "2025-02-26T01:21:38.821Z"
   },
   {
    "duration": 7,
    "start_time": "2025-02-26T01:21:38.833Z"
   },
   {
    "duration": 6,
    "start_time": "2025-02-26T01:21:38.842Z"
   },
   {
    "duration": 6,
    "start_time": "2025-02-26T01:24:22.079Z"
   },
   {
    "duration": 5,
    "start_time": "2025-02-26T01:24:53.638Z"
   },
   {
    "duration": 6,
    "start_time": "2025-02-26T01:25:12.871Z"
   },
   {
    "duration": 17,
    "start_time": "2025-02-26T01:27:43.482Z"
   },
   {
    "duration": 268,
    "start_time": "2025-02-26T01:27:58.963Z"
   },
   {
    "duration": 142,
    "start_time": "2025-02-26T01:29:03.329Z"
   },
   {
    "duration": 6,
    "start_time": "2025-02-26T01:32:42.745Z"
   },
   {
    "duration": 155,
    "start_time": "2025-02-26T01:33:18.033Z"
   },
   {
    "duration": 100,
    "start_time": "2025-02-26T01:33:53.530Z"
   },
   {
    "duration": 89,
    "start_time": "2025-02-26T01:34:01.820Z"
   },
   {
    "duration": 139,
    "start_time": "2025-02-26T01:34:28.222Z"
   },
   {
    "duration": 96,
    "start_time": "2025-02-26T01:34:37.602Z"
   },
   {
    "duration": 9,
    "start_time": "2025-02-26T01:36:47.196Z"
   },
   {
    "duration": 21,
    "start_time": "2025-02-26T01:37:59.420Z"
   },
   {
    "duration": 8,
    "start_time": "2025-02-26T01:38:11.889Z"
   },
   {
    "duration": 8,
    "start_time": "2025-02-26T01:38:42.166Z"
   },
   {
    "duration": 144,
    "start_time": "2025-02-26T01:43:08.435Z"
   },
   {
    "duration": 134,
    "start_time": "2025-02-26T01:43:57.390Z"
   },
   {
    "duration": 143,
    "start_time": "2025-02-26T01:44:10.688Z"
   },
   {
    "duration": 146,
    "start_time": "2025-02-26T01:44:43.961Z"
   },
   {
    "duration": 165,
    "start_time": "2025-02-26T01:45:14.696Z"
   },
   {
    "duration": 141,
    "start_time": "2025-02-26T01:45:22.832Z"
   },
   {
    "duration": 141,
    "start_time": "2025-02-26T01:45:26.420Z"
   },
   {
    "duration": 136,
    "start_time": "2025-02-26T01:46:00.702Z"
   },
   {
    "duration": 148,
    "start_time": "2025-02-26T01:46:14.080Z"
   },
   {
    "duration": 151,
    "start_time": "2025-02-26T01:46:26.095Z"
   },
   {
    "duration": 138,
    "start_time": "2025-02-26T01:47:43.121Z"
   },
   {
    "duration": 147,
    "start_time": "2025-02-26T01:47:50.004Z"
   },
   {
    "duration": 165,
    "start_time": "2025-02-26T01:49:36.518Z"
   },
   {
    "duration": 163,
    "start_time": "2025-02-26T18:44:37.484Z"
   },
   {
    "duration": 2923,
    "start_time": "2025-02-26T18:44:44.911Z"
   },
   {
    "duration": 29,
    "start_time": "2025-02-26T18:44:47.837Z"
   },
   {
    "duration": 12,
    "start_time": "2025-02-26T18:44:47.868Z"
   },
   {
    "duration": 5,
    "start_time": "2025-02-26T18:44:47.882Z"
   },
   {
    "duration": 4,
    "start_time": "2025-02-26T18:44:47.888Z"
   },
   {
    "duration": 5,
    "start_time": "2025-02-26T18:44:47.894Z"
   },
   {
    "duration": 17,
    "start_time": "2025-02-26T18:44:47.900Z"
   },
   {
    "duration": 5,
    "start_time": "2025-02-26T18:44:47.918Z"
   },
   {
    "duration": 3,
    "start_time": "2025-02-26T18:44:47.924Z"
   },
   {
    "duration": 4,
    "start_time": "2025-02-26T18:44:47.930Z"
   },
   {
    "duration": 10,
    "start_time": "2025-02-26T18:44:47.935Z"
   },
   {
    "duration": 5,
    "start_time": "2025-02-26T18:44:47.946Z"
   },
   {
    "duration": 652,
    "start_time": "2025-02-26T18:44:47.953Z"
   },
   {
    "duration": 0,
    "start_time": "2025-02-26T18:44:48.612Z"
   },
   {
    "duration": 0,
    "start_time": "2025-02-26T18:44:48.614Z"
   },
   {
    "duration": 0,
    "start_time": "2025-02-26T18:44:48.615Z"
   },
   {
    "duration": 0,
    "start_time": "2025-02-26T18:44:48.617Z"
   },
   {
    "duration": 0,
    "start_time": "2025-02-26T18:44:48.618Z"
   },
   {
    "duration": 0,
    "start_time": "2025-02-26T18:44:48.620Z"
   },
   {
    "duration": 0,
    "start_time": "2025-02-26T18:44:48.621Z"
   },
   {
    "duration": 0,
    "start_time": "2025-02-26T18:44:48.623Z"
   },
   {
    "duration": 0,
    "start_time": "2025-02-26T18:44:48.624Z"
   },
   {
    "duration": 0,
    "start_time": "2025-02-26T18:44:48.626Z"
   },
   {
    "duration": 0,
    "start_time": "2025-02-26T18:44:48.627Z"
   },
   {
    "duration": 0,
    "start_time": "2025-02-26T18:44:48.630Z"
   },
   {
    "duration": 0,
    "start_time": "2025-02-26T18:44:48.632Z"
   },
   {
    "duration": 0,
    "start_time": "2025-02-26T18:44:48.633Z"
   },
   {
    "duration": 0,
    "start_time": "2025-02-26T18:44:48.635Z"
   },
   {
    "duration": 0,
    "start_time": "2025-02-26T18:44:48.637Z"
   },
   {
    "duration": 0,
    "start_time": "2025-02-26T18:44:48.638Z"
   },
   {
    "duration": 0,
    "start_time": "2025-02-26T18:44:48.640Z"
   },
   {
    "duration": 3,
    "start_time": "2025-02-26T18:45:34.878Z"
   },
   {
    "duration": 11,
    "start_time": "2025-02-26T18:45:34.883Z"
   },
   {
    "duration": 12,
    "start_time": "2025-02-26T18:45:34.896Z"
   },
   {
    "duration": 8,
    "start_time": "2025-02-26T18:45:34.909Z"
   },
   {
    "duration": 3,
    "start_time": "2025-02-26T18:45:34.919Z"
   },
   {
    "duration": 6,
    "start_time": "2025-02-26T18:45:34.924Z"
   },
   {
    "duration": 9,
    "start_time": "2025-02-26T18:45:34.932Z"
   },
   {
    "duration": 5,
    "start_time": "2025-02-26T18:45:34.943Z"
   },
   {
    "duration": 3,
    "start_time": "2025-02-26T18:45:34.951Z"
   },
   {
    "duration": 5,
    "start_time": "2025-02-26T18:45:34.956Z"
   },
   {
    "duration": 49,
    "start_time": "2025-02-26T18:45:34.963Z"
   },
   {
    "duration": 6,
    "start_time": "2025-02-26T18:45:35.016Z"
   },
   {
    "duration": 10,
    "start_time": "2025-02-26T18:45:35.024Z"
   },
   {
    "duration": 3,
    "start_time": "2025-02-26T18:45:35.037Z"
   },
   {
    "duration": 6,
    "start_time": "2025-02-26T18:45:35.041Z"
   },
   {
    "duration": 6,
    "start_time": "2025-02-26T18:45:35.048Z"
   },
   {
    "duration": 8,
    "start_time": "2025-02-26T18:45:35.055Z"
   },
   {
    "duration": 4,
    "start_time": "2025-02-26T18:45:35.064Z"
   },
   {
    "duration": 3,
    "start_time": "2025-02-26T18:45:35.070Z"
   },
   {
    "duration": 4,
    "start_time": "2025-02-26T18:45:35.112Z"
   },
   {
    "duration": 11,
    "start_time": "2025-02-26T18:45:35.119Z"
   },
   {
    "duration": 6,
    "start_time": "2025-02-26T18:45:35.131Z"
   },
   {
    "duration": 6,
    "start_time": "2025-02-26T18:45:35.139Z"
   },
   {
    "duration": 6,
    "start_time": "2025-02-26T18:45:35.147Z"
   },
   {
    "duration": 6,
    "start_time": "2025-02-26T18:45:35.154Z"
   },
   {
    "duration": 6,
    "start_time": "2025-02-26T18:45:35.162Z"
   },
   {
    "duration": 188,
    "start_time": "2025-02-26T18:45:35.170Z"
   },
   {
    "duration": 96,
    "start_time": "2025-02-26T18:45:35.361Z"
   },
   {
    "duration": 9,
    "start_time": "2025-02-26T18:45:35.459Z"
   },
   {
    "duration": 168,
    "start_time": "2025-02-26T18:45:35.469Z"
   },
   {
    "duration": 156,
    "start_time": "2025-02-26T18:45:35.639Z"
   },
   {
    "duration": 160,
    "start_time": "2025-02-26T18:46:02.663Z"
   },
   {
    "duration": 233,
    "start_time": "2025-02-26T18:59:46.881Z"
   },
   {
    "duration": 231,
    "start_time": "2025-02-26T18:59:57.356Z"
   },
   {
    "duration": 251,
    "start_time": "2025-02-26T19:00:12.149Z"
   },
   {
    "duration": 7,
    "start_time": "2025-02-26T19:05:46.516Z"
   },
   {
    "duration": 139,
    "start_time": "2025-02-26T19:06:11.322Z"
   },
   {
    "duration": 87,
    "start_time": "2025-02-26T19:06:24.177Z"
   },
   {
    "duration": 10,
    "start_time": "2025-02-26T19:06:29.095Z"
   },
   {
    "duration": 144,
    "start_time": "2025-02-26T19:06:32.340Z"
   },
   {
    "duration": 151,
    "start_time": "2025-02-26T19:07:24.107Z"
   },
   {
    "duration": 144,
    "start_time": "2025-02-26T19:08:10.340Z"
   },
   {
    "duration": 245,
    "start_time": "2025-02-26T19:08:14.848Z"
   },
   {
    "duration": 118,
    "start_time": "2025-02-26T19:13:42.527Z"
   },
   {
    "duration": 801,
    "start_time": "2025-02-26T19:13:56.270Z"
   },
   {
    "duration": 191,
    "start_time": "2025-02-26T19:14:43.016Z"
   },
   {
    "duration": 217,
    "start_time": "2025-02-26T19:15:04.372Z"
   },
   {
    "duration": 137,
    "start_time": "2025-02-26T19:18:38.137Z"
   },
   {
    "duration": 4,
    "start_time": "2025-02-26T19:19:17.649Z"
   },
   {
    "duration": 35,
    "start_time": "2025-02-26T19:19:49.338Z"
   },
   {
    "duration": 3,
    "start_time": "2025-02-26T19:20:53.639Z"
   },
   {
    "duration": 15,
    "start_time": "2025-02-26T19:20:53.644Z"
   },
   {
    "duration": 8,
    "start_time": "2025-02-26T19:20:53.661Z"
   },
   {
    "duration": 4,
    "start_time": "2025-02-26T19:20:53.671Z"
   },
   {
    "duration": 4,
    "start_time": "2025-02-26T19:20:53.677Z"
   },
   {
    "duration": 6,
    "start_time": "2025-02-26T19:20:53.682Z"
   },
   {
    "duration": 9,
    "start_time": "2025-02-26T19:20:53.689Z"
   },
   {
    "duration": 15,
    "start_time": "2025-02-26T19:20:53.700Z"
   },
   {
    "duration": 4,
    "start_time": "2025-02-26T19:20:53.718Z"
   },
   {
    "duration": 5,
    "start_time": "2025-02-26T19:20:53.723Z"
   },
   {
    "duration": 9,
    "start_time": "2025-02-26T19:20:53.729Z"
   },
   {
    "duration": 4,
    "start_time": "2025-02-26T19:20:53.740Z"
   },
   {
    "duration": 15,
    "start_time": "2025-02-26T19:20:53.746Z"
   },
   {
    "duration": 3,
    "start_time": "2025-02-26T19:20:53.762Z"
   },
   {
    "duration": 47,
    "start_time": "2025-02-26T19:20:53.767Z"
   },
   {
    "duration": 5,
    "start_time": "2025-02-26T19:20:53.815Z"
   },
   {
    "duration": 8,
    "start_time": "2025-02-26T19:20:53.822Z"
   },
   {
    "duration": 5,
    "start_time": "2025-02-26T19:20:53.831Z"
   },
   {
    "duration": 4,
    "start_time": "2025-02-26T19:20:53.837Z"
   },
   {
    "duration": 4,
    "start_time": "2025-02-26T19:20:53.843Z"
   },
   {
    "duration": 9,
    "start_time": "2025-02-26T19:20:53.848Z"
   },
   {
    "duration": 5,
    "start_time": "2025-02-26T19:20:53.858Z"
   },
   {
    "duration": 47,
    "start_time": "2025-02-26T19:20:53.865Z"
   },
   {
    "duration": 7,
    "start_time": "2025-02-26T19:20:53.915Z"
   },
   {
    "duration": 6,
    "start_time": "2025-02-26T19:20:53.924Z"
   },
   {
    "duration": 5,
    "start_time": "2025-02-26T19:20:53.931Z"
   },
   {
    "duration": 158,
    "start_time": "2025-02-26T19:20:53.939Z"
   },
   {
    "duration": 91,
    "start_time": "2025-02-26T19:20:54.099Z"
   },
   {
    "duration": 8,
    "start_time": "2025-02-26T19:20:54.191Z"
   },
   {
    "duration": 160,
    "start_time": "2025-02-26T19:20:54.212Z"
   },
   {
    "duration": 162,
    "start_time": "2025-02-26T19:20:54.374Z"
   },
   {
    "duration": 256,
    "start_time": "2025-02-26T19:20:54.538Z"
   },
   {
    "duration": 206,
    "start_time": "2025-02-26T19:20:54.796Z"
   },
   {
    "duration": 49,
    "start_time": "2025-02-26T19:22:03.312Z"
   },
   {
    "duration": 6,
    "start_time": "2025-02-26T19:22:18.227Z"
   },
   {
    "duration": 8,
    "start_time": "2025-02-26T19:22:52.339Z"
   },
   {
    "duration": 9,
    "start_time": "2025-02-26T19:23:34.793Z"
   },
   {
    "duration": 162,
    "start_time": "2025-02-26T19:24:35.268Z"
   },
   {
    "duration": 143,
    "start_time": "2025-02-26T19:25:11.689Z"
   },
   {
    "duration": 161,
    "start_time": "2025-02-26T19:25:36.685Z"
   },
   {
    "duration": 8,
    "start_time": "2025-02-26T19:35:57.087Z"
   },
   {
    "duration": 19,
    "start_time": "2025-02-26T19:37:05.193Z"
   },
   {
    "duration": 246,
    "start_time": "2025-02-26T19:37:12.338Z"
   },
   {
    "duration": 42,
    "start_time": "2025-02-26T21:11:52.355Z"
   },
   {
    "duration": 9,
    "start_time": "2025-02-26T21:12:12.739Z"
   },
   {
    "duration": 41,
    "start_time": "2025-02-26T21:12:26.535Z"
   },
   {
    "duration": 107,
    "start_time": "2025-02-26T21:12:32.501Z"
   },
   {
    "duration": 125,
    "start_time": "2025-02-26T21:14:39.461Z"
   },
   {
    "duration": 4,
    "start_time": "2025-02-26T21:15:16.398Z"
   },
   {
    "duration": 241,
    "start_time": "2025-02-26T21:15:39.968Z"
   },
   {
    "duration": 7,
    "start_time": "2025-02-26T21:20:48.415Z"
   },
   {
    "duration": 153,
    "start_time": "2025-02-26T21:21:52.514Z"
   },
   {
    "duration": 130,
    "start_time": "2025-02-26T21:22:43.300Z"
   },
   {
    "duration": 4,
    "start_time": "2025-02-26T21:31:50.947Z"
   },
   {
    "duration": 5,
    "start_time": "2025-02-26T21:35:33.122Z"
   },
   {
    "duration": 110,
    "start_time": "2025-02-26T21:41:06.474Z"
   },
   {
    "duration": 122,
    "start_time": "2025-02-26T21:41:22.703Z"
   },
   {
    "duration": 130,
    "start_time": "2025-02-26T21:42:03.751Z"
   },
   {
    "duration": 125,
    "start_time": "2025-02-26T21:42:44.029Z"
   },
   {
    "duration": 120,
    "start_time": "2025-02-26T21:42:49.991Z"
   },
   {
    "duration": 100,
    "start_time": "2025-02-26T21:45:34.223Z"
   },
   {
    "duration": 4,
    "start_time": "2025-02-26T21:49:57.257Z"
   },
   {
    "duration": 42,
    "start_time": "2025-02-26T21:52:00.799Z"
   },
   {
    "duration": 358,
    "start_time": "2025-02-26T22:01:05.944Z"
   },
   {
    "duration": 95,
    "start_time": "2025-02-26T22:02:48.922Z"
   },
   {
    "duration": 91,
    "start_time": "2025-02-26T22:04:07.195Z"
   },
   {
    "duration": 64,
    "start_time": "2025-02-26T22:04:15.462Z"
   },
   {
    "duration": 64,
    "start_time": "2025-02-26T22:04:51.114Z"
   },
   {
    "duration": 147,
    "start_time": "2025-02-26T22:05:12.598Z"
   },
   {
    "duration": 59,
    "start_time": "2025-02-26T22:05:25.974Z"
   },
   {
    "duration": 89,
    "start_time": "2025-02-26T22:05:56.046Z"
   },
   {
    "duration": 61,
    "start_time": "2025-02-26T22:06:37.597Z"
   },
   {
    "duration": 114,
    "start_time": "2025-02-26T22:07:02.220Z"
   },
   {
    "duration": 4,
    "start_time": "2025-02-26T22:07:52.819Z"
   },
   {
    "duration": 124,
    "start_time": "2025-02-26T22:07:59.022Z"
   },
   {
    "duration": 147,
    "start_time": "2025-02-26T22:08:14.673Z"
   },
   {
    "duration": 6,
    "start_time": "2025-02-26T22:12:57.522Z"
   },
   {
    "duration": 14,
    "start_time": "2025-02-26T22:15:12.601Z"
   },
   {
    "duration": 19,
    "start_time": "2025-02-26T22:15:44.809Z"
   },
   {
    "duration": 7,
    "start_time": "2025-02-26T22:15:51.081Z"
   },
   {
    "duration": 18,
    "start_time": "2025-02-26T22:15:53.099Z"
   },
   {
    "duration": 15,
    "start_time": "2025-02-26T22:16:30.932Z"
   },
   {
    "duration": 15,
    "start_time": "2025-02-26T22:17:54.218Z"
   },
   {
    "duration": 16,
    "start_time": "2025-02-26T22:18:03.782Z"
   },
   {
    "duration": 4,
    "start_time": "2025-02-26T22:20:07.214Z"
   },
   {
    "duration": 16,
    "start_time": "2025-02-26T22:20:14.764Z"
   },
   {
    "duration": 15,
    "start_time": "2025-02-26T22:20:39.774Z"
   },
   {
    "duration": 28,
    "start_time": "2025-02-26T22:23:43.060Z"
   },
   {
    "duration": 28,
    "start_time": "2025-02-26T22:23:52.094Z"
   },
   {
    "duration": 31,
    "start_time": "2025-02-26T22:24:16.386Z"
   },
   {
    "duration": 25,
    "start_time": "2025-02-26T22:24:48.131Z"
   },
   {
    "duration": 17,
    "start_time": "2025-02-26T22:25:04.472Z"
   },
   {
    "duration": 25,
    "start_time": "2025-02-26T22:25:17.281Z"
   },
   {
    "duration": 27,
    "start_time": "2025-02-26T22:26:03.816Z"
   },
   {
    "duration": 4,
    "start_time": "2025-02-26T22:26:46.854Z"
   },
   {
    "duration": 26,
    "start_time": "2025-02-26T22:27:00.857Z"
   },
   {
    "duration": 15,
    "start_time": "2025-02-26T22:27:52.913Z"
   },
   {
    "duration": 4,
    "start_time": "2025-02-26T22:36:45.238Z"
   },
   {
    "duration": 16,
    "start_time": "2025-02-26T22:37:45.917Z"
   },
   {
    "duration": 50,
    "start_time": "2025-02-26T22:38:09.489Z"
   },
   {
    "duration": 16,
    "start_time": "2025-02-26T22:39:37.886Z"
   },
   {
    "duration": 9,
    "start_time": "2025-02-26T22:39:50.300Z"
   },
   {
    "duration": 49,
    "start_time": "2025-02-26T22:50:30.582Z"
   },
   {
    "duration": 44,
    "start_time": "2025-02-26T22:50:42.232Z"
   },
   {
    "duration": 6,
    "start_time": "2025-02-26T22:50:52.562Z"
   },
   {
    "duration": 5,
    "start_time": "2025-02-26T22:51:13.327Z"
   },
   {
    "duration": 7,
    "start_time": "2025-02-26T22:52:19.780Z"
   },
   {
    "duration": 24,
    "start_time": "2025-02-26T22:53:26.329Z"
   },
   {
    "duration": 8,
    "start_time": "2025-02-26T22:54:14.200Z"
   },
   {
    "duration": 7,
    "start_time": "2025-02-26T22:58:01.538Z"
   },
   {
    "duration": 9,
    "start_time": "2025-02-26T22:58:38.407Z"
   },
   {
    "duration": 16,
    "start_time": "2025-02-26T23:01:50.118Z"
   },
   {
    "duration": 16,
    "start_time": "2025-02-26T23:07:11.923Z"
   },
   {
    "duration": 7,
    "start_time": "2025-02-26T23:07:34.514Z"
   },
   {
    "duration": 11,
    "start_time": "2025-02-26T23:09:43.796Z"
   },
   {
    "duration": 1875,
    "start_time": "2025-02-27T23:12:50.790Z"
   },
   {
    "duration": 40,
    "start_time": "2025-02-27T23:12:52.717Z"
   },
   {
    "duration": 9,
    "start_time": "2025-02-27T23:12:52.759Z"
   },
   {
    "duration": 50,
    "start_time": "2025-02-27T23:12:52.770Z"
   },
   {
    "duration": 4,
    "start_time": "2025-02-27T23:12:52.838Z"
   },
   {
    "duration": 5,
    "start_time": "2025-02-27T23:12:52.845Z"
   },
   {
    "duration": 9,
    "start_time": "2025-02-27T23:12:52.852Z"
   },
   {
    "duration": 52,
    "start_time": "2025-02-27T23:12:52.863Z"
   },
   {
    "duration": 11,
    "start_time": "2025-02-27T23:12:52.917Z"
   },
   {
    "duration": 6,
    "start_time": "2025-02-27T23:12:52.930Z"
   },
   {
    "duration": 19,
    "start_time": "2025-02-27T23:12:52.938Z"
   },
   {
    "duration": 65,
    "start_time": "2025-02-27T23:12:52.959Z"
   },
   {
    "duration": 19,
    "start_time": "2025-02-27T23:12:53.033Z"
   },
   {
    "duration": 2,
    "start_time": "2025-02-27T23:12:53.057Z"
   },
   {
    "duration": 54,
    "start_time": "2025-02-27T23:12:53.062Z"
   },
   {
    "duration": 15,
    "start_time": "2025-02-27T23:12:53.129Z"
   },
   {
    "duration": 8,
    "start_time": "2025-02-27T23:12:53.146Z"
   },
   {
    "duration": 5,
    "start_time": "2025-02-27T23:12:53.157Z"
   },
   {
    "duration": 4,
    "start_time": "2025-02-27T23:12:53.164Z"
   },
   {
    "duration": 10,
    "start_time": "2025-02-27T23:12:53.221Z"
   },
   {
    "duration": 16,
    "start_time": "2025-02-27T23:12:53.234Z"
   },
   {
    "duration": 5,
    "start_time": "2025-02-27T23:12:53.252Z"
   },
   {
    "duration": 69,
    "start_time": "2025-02-27T23:12:53.259Z"
   },
   {
    "duration": 14,
    "start_time": "2025-02-27T23:12:53.330Z"
   },
   {
    "duration": 6,
    "start_time": "2025-02-27T23:12:53.346Z"
   },
   {
    "duration": 74,
    "start_time": "2025-02-27T23:12:53.354Z"
   },
   {
    "duration": 372,
    "start_time": "2025-02-27T23:12:53.440Z"
   },
   {
    "duration": 214,
    "start_time": "2025-02-27T23:12:53.814Z"
   },
   {
    "duration": 10,
    "start_time": "2025-02-27T23:12:54.038Z"
   },
   {
    "duration": 383,
    "start_time": "2025-02-27T23:12:54.049Z"
   },
   {
    "duration": 386,
    "start_time": "2025-02-27T23:12:54.434Z"
   },
   {
    "duration": 515,
    "start_time": "2025-02-27T23:12:54.822Z"
   },
   {
    "duration": 482,
    "start_time": "2025-02-27T23:12:55.339Z"
   },
   {
    "duration": 522,
    "start_time": "2025-02-27T23:12:55.825Z"
   },
   {
    "duration": 305,
    "start_time": "2025-02-27T23:12:56.349Z"
   },
   {
    "duration": 297,
    "start_time": "2025-02-27T23:12:56.656Z"
   },
   {
    "duration": 353,
    "start_time": "2025-02-27T23:12:56.957Z"
   },
   {
    "duration": 4,
    "start_time": "2025-02-27T23:12:57.312Z"
   },
   {
    "duration": 8,
    "start_time": "2025-02-27T23:12:57.318Z"
   },
   {
    "duration": 326,
    "start_time": "2025-02-27T23:12:57.327Z"
   },
   {
    "duration": 296,
    "start_time": "2025-02-27T23:12:57.659Z"
   },
   {
    "duration": 5,
    "start_time": "2025-02-27T23:12:57.957Z"
   },
   {
    "duration": 302,
    "start_time": "2025-02-27T23:12:57.964Z"
   },
   {
    "duration": 61,
    "start_time": "2025-02-27T23:12:58.267Z"
   },
   {
    "duration": 34,
    "start_time": "2025-02-27T23:12:58.330Z"
   },
   {
    "duration": 26,
    "start_time": "2025-02-27T23:12:58.414Z"
   },
   {
    "duration": 15,
    "start_time": "2025-02-27T23:12:58.442Z"
   },
   {
    "duration": 68,
    "start_time": "2025-02-27T23:12:58.460Z"
   },
   {
    "duration": 17,
    "start_time": "2025-02-27T23:12:58.533Z"
   },
   {
    "duration": 66,
    "start_time": "2025-02-27T23:12:58.552Z"
   }
  ],
  "kernelspec": {
   "display_name": "Python 3 (ipykernel)",
   "language": "python",
   "name": "python3"
  },
  "language_info": {
   "codemirror_mode": {
    "name": "ipython",
    "version": 3
   },
   "file_extension": ".py",
   "mimetype": "text/x-python",
   "name": "python",
   "nbconvert_exporter": "python",
   "pygments_lexer": "ipython3",
   "version": "3.9.19"
  },
  "toc": {
   "base_numbering": 1,
   "nav_menu": {},
   "number_sections": true,
   "sideBar": true,
   "skip_h1_title": true,
   "title_cell": "Table of Contents",
   "title_sidebar": "Contents",
   "toc_cell": false,
   "toc_position": {
    "height": "calc(100% - 180px)",
    "left": "10px",
    "top": "150px",
    "width": "273.011px"
   },
   "toc_section_display": true,
   "toc_window_display": false
  }
 },
 "nbformat": 4,
 "nbformat_minor": 2
}
